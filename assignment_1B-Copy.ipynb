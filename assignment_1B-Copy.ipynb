{
 "cells": [
  {
   "cell_type": "code",
   "execution_count": 11,
   "metadata": {},
   "outputs": [],
   "source": [
    "import pandas as pd\n",
    "import numpy as np\n",
    "import os\n",
    "import sys\n",
    "data_dir = os.getcwd()+\"/log_data/\"\n",
    "sys.argv = [\"file\",\"train.csv\", \"test.csv\", \"param_a.txt\" ,\"outputfile.csv\", \"weightfile.csv\"]"
   ]
  },
  {
   "cell_type": "code",
   "execution_count": 12,
   "metadata": {},
   "outputs": [],
   "source": [
    "def hotencode_train(data):\n",
    "    train = pd.DataFrame()\n",
    "    parents = pd.get_dummies(data[0], prefix=\"parents\")\n",
    "    has_nurs = pd.get_dummies(data[1], prefix=\"has_nurs\")\n",
    "    form = pd.get_dummies(data[2], prefix=\"form\")\n",
    "    children = pd.get_dummies(data[3], prefix=\"children\")\n",
    "    housing = pd.get_dummies(data[4], prefix=\"housing\")\n",
    "    finance = pd.get_dummies(data[5], prefix=\"finance\")\n",
    "    social = pd.get_dummies(data[6], prefix=\"social\")\n",
    "    health = pd.get_dummies(data[7], prefix=\"health\")\n",
    "    classDistribution = pd.get_dummies(data[8], prefix=\"class\")\n",
    "    train = pd.concat([parents, has_nurs, form, children, housing,\n",
    "                    finance, social, health, classDistribution], axis=1)\n",
    "    cols = ['parents_usual', 'parents_pretentious', 'parents_great_pret', 'has_nurs_proper', 'has_nurs_less_proper', 'has_nurs_improper',\n",
    "            'has_nurs_critical', 'has_nurs_very_crit',\n",
    "            'form_complete', 'form_completed', 'form_incomplete', 'form_foster',\n",
    "            'children_1', 'children_2', 'children_3', 'children_more',\n",
    "            'housing_convenient', 'housing_less_conv', 'housing_critical',\n",
    "            'finance_convenient', 'finance_inconv',\n",
    "            'social_nonprob', 'social_slightly_prob', 'social_problematic',\n",
    "            'health_recommended', 'health_priority', 'health_not_recom',\n",
    "            'class_not_recom', 'class_recommend', 'class_very_recom', 'class_priority', 'class_spec_prior']\n",
    "\n",
    "    return train[pd.Index(cols)]"
   ]
  },
  {
   "cell_type": "code",
   "execution_count": 13,
   "metadata": {},
   "outputs": [],
   "source": [
    "def hotencode_test(data):\n",
    "    train = pd.DataFrame()\n",
    "    parents = pd.get_dummies(data[0], prefix=\"parents\")\n",
    "    has_nurs = pd.get_dummies(data[1], prefix=\"has_nurs\")\n",
    "    form = pd.get_dummies(data[2], prefix=\"form\")\n",
    "    children = pd.get_dummies(data[3], prefix=\"children\")\n",
    "    housing = pd.get_dummies(data[4], prefix=\"housing\")\n",
    "    finance = pd.get_dummies(data[5], prefix=\"finance\")\n",
    "    social = pd.get_dummies(data[6], prefix=\"social\")\n",
    "    health = pd.get_dummies(data[7], prefix=\"health\")\n",
    "    train = pd.concat([parents, has_nurs, form, children, housing,\n",
    "                    finance, social, health], axis=1)\n",
    "    cols = ['parents_usual', 'parents_pretentious', 'parents_great_pret', 'has_nurs_proper', 'has_nurs_less_proper', 'has_nurs_improper',\n",
    "            'has_nurs_critical', 'has_nurs_very_crit',\n",
    "            'form_complete', 'form_completed', 'form_incomplete', 'form_foster',\n",
    "            'children_1', 'children_2', 'children_3', 'children_more',\n",
    "            'housing_convenient', 'housing_less_conv', 'housing_critical',\n",
    "            'finance_convenient', 'finance_inconv',\n",
    "            'social_nonprob', 'social_slightly_prob', 'social_problematic',\n",
    "            'health_recommended', 'health_priority', 'health_not_recom']\n",
    "    return train[pd.Index(cols)]"
   ]
  },
  {
   "cell_type": "code",
   "execution_count": 27,
   "metadata": {},
   "outputs": [
    {
     "name": "stdout",
     "output_type": "stream",
     "text": [
      "[3.e+00 1.e-03 5.e-02 1.e-02 1.e+04]\n"
     ]
    }
   ],
   "source": [
    "train_data = pd.read_csv(data_dir+sys.argv[1], header=None)\n",
    "test_data = pd.read_csv(data_dir+sys.argv[2], header=None)\n",
    "with open(data_dir+sys.argv[3],\"r\") as f:\n",
    "    params = np.array(f.read().replace(\",\",\"\\n\")[:-1].split(\"\\n\")).astype(np.float)   \n",
    "    print(params)\n",
    "train_data = hotencode_train(train_data)\n",
    "test_data = hotencode_test(test_data)\n",
    "classes = train_data.iloc[:,-5:].values\n",
    "features = train_data.iloc[:,:-5].values\n",
    "features = np.c_[np.ones(len(train_data)),features]\n",
    "X_train = features[:,:]\n",
    "Y_train = classes[:,:]\n",
    "# testFeatures = test_data.iloc[:,:].values\n",
    "# testFeatures = np.c_[np.ones(len(test_data)),testFeatures]\n",
    "# X_test = features[:,:]\n",
    "# Y_test = classes[:,:]\n"
   ]
  },
  {
   "cell_type": "code",
   "execution_count": 8,
   "metadata": {},
   "outputs": [
    {
     "ename": "NameError",
     "evalue": "name 'X_test' is not defined",
     "output_type": "error",
     "traceback": [
      "\u001b[0;31m---------------------------------------------------------------------------\u001b[0m",
      "\u001b[0;31mNameError\u001b[0m                                 Traceback (most recent call last)",
      "\u001b[0;32m<ipython-input-8-7a44c82959ee>\u001b[0m in \u001b[0;36m<module>\u001b[0;34m\u001b[0m\n\u001b[0;32m----> 1\u001b[0;31m \u001b[0mprint\u001b[0m\u001b[0;34m(\u001b[0m\u001b[0mX_train\u001b[0m\u001b[0;34m.\u001b[0m\u001b[0mshape\u001b[0m\u001b[0;34m,\u001b[0m\u001b[0mY_train\u001b[0m\u001b[0;34m.\u001b[0m\u001b[0mshape\u001b[0m\u001b[0;34m,\u001b[0m\u001b[0mX_test\u001b[0m\u001b[0;34m.\u001b[0m\u001b[0mshape\u001b[0m\u001b[0;34m,\u001b[0m\u001b[0mY_test\u001b[0m\u001b[0;34m.\u001b[0m\u001b[0mshape\u001b[0m\u001b[0;34m)\u001b[0m\u001b[0;34m\u001b[0m\u001b[0;34m\u001b[0m\u001b[0m\n\u001b[0m",
      "\u001b[0;31mNameError\u001b[0m: name 'X_test' is not defined"
     ]
    }
   ],
   "source": [
    "print(X_train.shape,Y_train.shape,X_test.shape,Y_test.shape)"
   ]
  },
  {
   "cell_type": "code",
   "execution_count": 9,
   "metadata": {},
   "outputs": [],
   "source": [
    "def gradient(X,Y,W):\n",
    "    XW = np.exp(np.matmul(X, W))\n",
    "    denom = np.sum(XW, axis=1)\n",
    "    Y_predict = np.divide(XW, denom.reshape(X.shape[0], 1))\n",
    "    return np.matmul(X.transpose(), Y - Y_predict)/X.shape[0]"
   ]
  },
  {
   "cell_type": "code",
   "execution_count": 10,
   "metadata": {},
   "outputs": [],
   "source": [
    "def cost(W,X,Y):\n",
    "    XW = np.exp(np.matmul(X,W))\n",
    "    denom = np.sum(XW, axis=1)\n",
    "    Y_predict = np.divide(XW, denom.reshape(X.shape[0], 1))\n",
    "    ee = -np.trace(np.matmul(Y.T,np.log(Y_predict)))/X.shape[0]\n",
    "#     logTerm = np.log(np.sum(XW,axis=1))\n",
    "#     weightedTerm = np.sum(np.multiply(np.matmul(Y,W.T),X),axis=1)\n",
    "#     error = np.sum(logTerm-weightedTerm)/X.shape[0]\n",
    "#     print(error,ee)\n",
    "    return ee"
   ]
  },
  {
   "cell_type": "code",
   "execution_count": 29,
   "metadata": {},
   "outputs": [
    {
     "data": {
      "text/plain": [
       "0.5579236488340189"
      ]
     },
     "execution_count": 29,
     "metadata": {},
     "output_type": "execute_result"
    }
   ],
   "source": [
    "np.dot(grad.reshape(140,1).T,grad.reshape(140,1))"
   ]
  },
  {
   "cell_type": "code",
   "execution_count": 33,
   "metadata": {},
   "outputs": [
    {
     "data": {
      "text/plain": [
       "array([3.e+00, 1.e-03, 5.e-01, 1.e+03])"
      ]
     },
     "execution_count": 33,
     "metadata": {},
     "output_type": "execute_result"
    }
   ],
   "source": [
    "params"
   ]
  },
  {
   "cell_type": "code",
   "execution_count": 129,
   "metadata": {},
   "outputs": [],
   "source": [
    "# backtracking part\n",
    "if(params[0] == 3):\n",
    "    w_initial = np.zeros(28*5).reshape(28, 5)\n",
    "    costAr = []\n",
    "    costAr.append(0)\n",
    "    alpha = params[2]\n",
    "    beta = params[3]\n",
    "    n =params[1]\n",
    "    # print(params[3])\n",
    "    for j in range(1, int(params[4])):\n",
    "        grad = gradient(X_train,Y_train,w_initial)\n",
    "        while(cost(w_initial-n*grad,X_train,Y_train) > cost(w_initial,X_train,Y_train)-alpha*n*np.dot(grad.reshape(140,1).T,grad.reshape(140,1))[0][0]):\n",
    "            n*=beta\n",
    "        w_initial = w_initial+n*grad\n",
    "        c = cost(w_initial,X_train,Y_train)\n",
    "        print((j,c,n), end=\"\\r\", flush=True)\n",
    "        costAr.append(c)\n",
    "        if(abs(costAr[j-1]-costAr[j])<.000001 and j>1):\n",
    "            break\n",
    "    print(j)"
   ]
  },
  {
   "cell_type": "code",
   "execution_count": 159,
   "metadata": {},
   "outputs": [
    {
     "data": {
      "text/plain": [
       "inf"
      ]
     },
     "execution_count": 159,
     "metadata": {},
     "output_type": "execute_result"
    }
   ],
   "source": [
    "np.inf"
   ]
  },
  {
   "cell_type": "code",
   "execution_count": 1,
   "metadata": {
    "scrolled": true
   },
   "outputs": [
    {
     "ename": "NameError",
     "evalue": "name 'params' is not defined",
     "output_type": "error",
     "traceback": [
      "\u001b[0;31m---------------------------------------------------------------------------\u001b[0m",
      "\u001b[0;31mNameError\u001b[0m                                 Traceback (most recent call last)",
      "\u001b[0;32m<ipython-input-1-7f1eb3b1fe48>\u001b[0m in \u001b[0;36m<module>\u001b[0;34m\u001b[0m\n\u001b[1;32m     17\u001b[0m \u001b[0;31m#             if(costAr[index-1]-costAr[index]<0 and j>1):\u001b[0m\u001b[0;34m\u001b[0m\u001b[0;34m\u001b[0m\u001b[0;34m\u001b[0m\u001b[0m\n\u001b[1;32m     18\u001b[0m \u001b[0;31m#                 break\u001b[0m\u001b[0;34m\u001b[0m\u001b[0;34m\u001b[0m\u001b[0;34m\u001b[0m\u001b[0m\n\u001b[0;32m---> 19\u001b[0;31m \u001b[0;32mif\u001b[0m\u001b[0;34m(\u001b[0m\u001b[0mparams\u001b[0m\u001b[0;34m[\u001b[0m\u001b[0;36m0\u001b[0m\u001b[0;34m]\u001b[0m \u001b[0;34m==\u001b[0m \u001b[0;36m1\u001b[0m\u001b[0;34m)\u001b[0m\u001b[0;34m:\u001b[0m\u001b[0;34m\u001b[0m\u001b[0;34m\u001b[0m\u001b[0m\n\u001b[0m\u001b[1;32m     20\u001b[0m     \u001b[0mw_initial\u001b[0m \u001b[0;34m=\u001b[0m \u001b[0mnp\u001b[0m\u001b[0;34m.\u001b[0m\u001b[0mones\u001b[0m\u001b[0;34m(\u001b[0m\u001b[0;36m28\u001b[0m\u001b[0;34m*\u001b[0m\u001b[0;36m5\u001b[0m\u001b[0;34m)\u001b[0m\u001b[0;34m.\u001b[0m\u001b[0mreshape\u001b[0m\u001b[0;34m(\u001b[0m\u001b[0;36m28\u001b[0m\u001b[0;34m,\u001b[0m \u001b[0;36m5\u001b[0m\u001b[0;34m)\u001b[0m\u001b[0;34m\u001b[0m\u001b[0;34m\u001b[0m\u001b[0m\n\u001b[1;32m     21\u001b[0m     \u001b[0mcostAr\u001b[0m \u001b[0;34m=\u001b[0m \u001b[0;34m[\u001b[0m\u001b[0;34m]\u001b[0m\u001b[0;34m\u001b[0m\u001b[0;34m\u001b[0m\u001b[0m\n",
      "\u001b[0;31mNameError\u001b[0m: name 'params' is not defined"
     ]
    }
   ],
   "source": [
    "# part b\n",
    "# if(params[0] == 1):\n",
    "#     w_initial = np.ones(28*5).reshape(28, 5)\n",
    "#     costAr = []\n",
    "#     costAr.append(0)\n",
    "#     k = int(params[3])\n",
    "#     l = X_train.shape[0]\n",
    "#     index=0\n",
    "#     for i in range(0,int(l/k)-1):\n",
    "#         for j in range(1, int(params[2])):\n",
    "#             index+=1\n",
    "#             grad  = gradient(X_train[int((l/k)*i):int((l/k)*(i+1)),:] , Y_train[int((l/k)*i):int((l/k)*(i+1)),:], w_initial)\n",
    "#             w_initial = w_initial+params[1]*grad \n",
    "#             c = cost(w_initial,X_train,Y_train)\n",
    "#             costAr.append(c)\n",
    "#             print((j,i,c), end=\"\\r\", flush=True)\n",
    "#             if(costAr[index-1]-costAr[index]<0 and j>1):\n",
    "#                 break\n",
    "if(params[0] == 1):\n",
    "    w_initial = np.ones(28*5).reshape(28, 5)\n",
    "    costAr = []\n",
    "    costAr.append(0)\n",
    "    k = int(params[3])\n",
    "    l = X_train.shape[0]\n",
    "    index=0\n",
    "    print(l/k)\n",
    "    for i in range(0,int(l/k)):    \n",
    "        startIndex = int(k*i)\n",
    "        endIndex = int(k*(i+1))\n",
    "        for j in range(1, int(params[2])):    \n",
    "            index+=1\n",
    "            grad  = gradient(X_train[startIndex:endIndex,:] , Y_train[startIndex:endIndex,:], w_initial)\n",
    "            w_temp = w_initial+params[1]*grad \n",
    "            c = cost(w_initial,X_train[startIndex:endIndex,:],Y_train[startIndex:endIndex,:])\n",
    "            if(c!=c):\n",
    "                break\n",
    "            costAr.append(c)\n",
    "            print((startIndex,endIndex,j,i,c), end=\"\\r\", flush=True)\n",
    "#             print(j,i,c)\n",
    "            if(abs(costAr[index-1]-costAr[index])<0.00001):\n",
    "                break\n",
    "            w_initial = w_temp             \n",
    "                "
   ]
  },
  {
   "cell_type": "code",
   "execution_count": null,
   "metadata": {},
   "outputs": [],
   "source": []
  },
  {
   "cell_type": "code",
   "execution_count": 104,
   "metadata": {},
   "outputs": [
    {
     "name": "stdout",
     "output_type": "stream",
     "text": [
      "2\n",
      "0.9041666666666667\n"
     ]
    }
   ],
   "source": [
    "print(j)\n",
    "# w_initial = (w_initial.T - w_initial.T[0]).T\n",
    "WmulX = np.exp(np.matmul(X_test, w_initial))\n",
    "denom = np.sum(WmulX, axis=1)\n",
    "Y_predict = np.divide(WmulX, denom.reshape(len(X_test), 1))\n",
    "b = np.zeros_like(Y_predict)\n",
    "b[np.arange(len(Y_predict)), Y_predict.argmax(1)] = 1\n",
    "Y_predict = b\n",
    "accuracy = np.trace(np.matmul(Y_predict, Y_test.T))/len(X_test)\n",
    "print(accuracy)"
   ]
  },
  {
   "cell_type": "code",
   "execution_count": 156,
   "metadata": {},
   "outputs": [
    {
     "data": {
      "image/png": "[encoded data removed]",
      "text/plain": [
       "<Figure size 432x288 with 1 Axes>"
      ]
     },
     "metadata": {
      "needs_background": "light"
     },
     "output_type": "display_data"
    }
   ],
   "source": [
    "import matplotlib.pyplot as plt\n",
    "plt.plot(range(0, len(costAr)),costAr)\n",
    "plt.show()"
   ]
  },
  {
   "cell_type": "code",
   "execution_count": null,
   "metadata": {},
   "outputs": [],
   "source": [
    "# print(X_train.shape,Y_train.shape,X_test.shape)\n",
    "w_initial = np.ones(28*5).reshape(28, 5)\n",
    "cost(w_initial,X_train,Y_train)"
   ]
  },
  {
   "cell_type": "code",
   "execution_count": null,
   "metadata": {
    "scrolled": true
   },
   "outputs": [],
   "source": [
    "w_initial = np.ones(28*5).reshape(28, 5)\n",
    "k =1\n",
    "l = X_train.shape[0]\n",
    "costAr = []\n",
    "for j in range(1, 40000):\n",
    "    grad = gradient(X_train,Y_train,w_initial)\n",
    "    w_initial = w_initial+0.1*grad  \n",
    "    c = cost(w_initial,X_train,Y_train)\n",
    "    print((j,c), end=\"\\r\", flush=True)\n",
    "    costAr.append(c)"
   ]
  },
  {
   "cell_type": "code",
   "execution_count": 74,
   "metadata": {},
   "outputs": [
    {
     "name": "stdout",
     "output_type": "stream",
     "text": [
      "\n",
      "\n",
      "########################\n",
      "###   iteration 1   ###\n",
      "########################\n",
      "\n",
      "Inequality:  -143.12\n",
      "\n",
      "\n",
      "########################\n",
      "###   iteration 2   ###\n",
      "########################\n",
      "\n",
      "Inequality:  -73.22880000000006\n",
      "\n",
      "\n",
      "########################\n",
      "###   iteration 3   ###\n",
      "########################\n",
      "\n",
      "Inequality:  -32.172032000000044\n",
      "\n",
      "\n",
      "########################\n",
      "###   iteration 4   ###\n",
      "########################\n",
      "\n",
      "Inequality:  -8.834580480000021\n",
      "\n",
      "\n",
      "########################\n",
      "###   iteration 5   ###\n",
      "########################\n",
      "\n",
      "Inequality:  3.7502844927999845\n",
      "\n",
      "final step size : 0.32768000000000014\n"
     ]
    }
   ],
   "source": [
    "import numpy as np\n",
    "alpha = 0.3\n",
    "beta = 0.8\n",
    "\n",
    "f = lambda x: (x[0]**2 + 3*x[1]*x[0] + 12)\n",
    "dfx1 = lambda x: (2*x[0] + 3*x[1])\n",
    "dfx2 = lambda x: (3*x[0])\n",
    "\n",
    "t = 1\n",
    "count = 1\n",
    "x0 = np.array([2,3])\n",
    "dx0 = np.array([.1, 0.05])\n",
    "\n",
    "\n",
    "def backtrack(x0, dfx1, dfx2, t, alpha, beta, count):\n",
    "    while (f(x0) - (f(x0 - t*np.array([dfx1(x0), dfx2(x0)])) + alpha * t * np.dot(np.array([dfx1(x0), dfx2(x0)]), np.array([dfx1(x0), dfx2(x0)])))) < 0:\n",
    "        t *= beta\n",
    "        print(\"\"\"\n",
    "\n",
    "########################\n",
    "###   iteration {}   ###\n",
    "########################\n",
    "\"\"\".format(count))\n",
    "        print(\"Inequality: \",  f(x0) - (f(x0 - t*np.array([dfx1(x0), dfx2(x0)])) + alpha * t * np.dot(np.array([dfx1(x0), dfx2(x0)]), np.array([dfx1(x0), dfx2(x0)]))))\n",
    "        count += 1\n",
    "    return t\n",
    "\n",
    "t = backtrack(x0, dfx1, dfx2, t, alpha, beta,count)\n",
    "\n",
    "print(\"\\nfinal step size :\",  t)"
   ]
  },
  {
   "cell_type": "code",
   "execution_count": 49,
   "metadata": {},
   "outputs": [],
   "source": [
    "# import matplotlib.pyplot as plt\n",
    "# plt.plot(range(0, len(costValues[1:5000])),costValues[1:5000])\n",
    "# plt.show()\n",
    "alpha = [0.000005,0.00001,0.00005,0.0001, .001, .01,0.1,1,10]\n",
    "batch = [10, 20 , 30 ,40 ,50]"
   ]
  },
  {
   "cell_type": "code",
   "execution_count": 64,
   "metadata": {},
   "outputs": [
    {
     "name": "stdout",
     "output_type": "stream",
     "text": [
      "(array([0, 0, 0, 0, 1, 1, 1, 2, 2, 2, 3, 3, 3, 3, 3]), array([0, 1, 3, 4, 0, 1, 4, 0, 1, 2, 0, 1, 2, 3, 4])) \n",
      "\n",
      " [[0.92333333 0.92333333 0.92166667 0.92333333 0.92333333]\n",
      " [0.92333333 0.92333333 0.92166667 0.92166667 0.92333333]\n",
      " [0.92333333 0.92333333 0.92333333 0.92166667 0.92166667]\n",
      " [0.92333333 0.92333333 0.92333333 0.92333333 0.92333333]\n",
      " [0.915      0.915      0.915      0.915      0.91666667]\n",
      " [0.91333333 0.91333333 0.91333333 0.91333333 0.915     ]\n",
      " [0.90333333 0.90333333 0.90166667 0.90166667 0.9       ]\n",
      " [0.84       0.83166667 0.80666667 0.78166667 0.75666667]\n",
      " [0.675      0.55833333 0.65666667 0.64       0.61166667]]\n"
     ]
    }
   ],
   "source": [
    "print(np.where(a==np.max(a)),\"\\n\\n\",a)"
   ]
  },
  {
   "cell_type": "code",
   "execution_count": 72,
   "metadata": {},
   "outputs": [],
   "source": [
    "lam, batch =  np.where(a==np.max(a))[0][0], np.where(a==np.max(a))[1][0]"
   ]
  },
  {
   "cell_type": "code",
   "execution_count": 73,
   "metadata": {},
   "outputs": [
    {
     "name": "stdout",
     "output_type": "stream",
     "text": [
      "0 0\n"
     ]
    }
   ],
   "source": [
    "print(lam,bathc)"
   ]
  },
  {
   "cell_type": "code",
   "execution_count": 55,
   "metadata": {},
   "outputs": [
    {
     "name": "stdout",
     "output_type": "stream",
     "text": [
      "0.0\n"
     ]
    }
   ],
   "source": [
    "a = np.zeros((len(alpha),len(batch)))\n",
    "print(a[5][4])"
   ]
  },
  {
   "cell_type": "code",
   "execution_count": 57,
   "metadata": {
    "scrolled": false
   },
   "outputs": [
    {
     "name": "stdout",
     "output_type": "stream",
     "text": [
      "0.1868589334800851 0.18686893284266848\n",
      "1278\n",
      "0 0 0.9233333333333333\n",
      "0.18699018492586442 0.1870001717311152\n",
      "1277\n",
      "1 0 0.9233333333333333\n",
      "0.18814892514147807 0.18815891971104612\n",
      "1260\n",
      "2 0 0.9233333333333333\n",
      "0.18966449807126545 0.18967449422318358\n",
      "1236\n",
      "3 0 0.9233333333333333\n",
      "0.2169446874945069 0.21695466395025786\n",
      "843\n",
      "4 0 0.915\n",
      "0.34264029963364295 0.34265020957933695\n",
      "251\n",
      "5 0 0.9133333333333333\n",
      "0.7001408270588976 0.7001499651944685\n",
      "52\n",
      "6 0 0.9033333333333333\n",
      "1.2825377917344263 1.282538627570496\n",
      "11\n",
      "7 0 0.84\n",
      "1.557699860735422 1.557699860735422\n",
      "11\n",
      "8 0 0.675\n",
      "0.182891497232636 0.1829014914316851\n",
      "920\n",
      "0 1 0.9233333333333333\n",
      "0.1830456947415194 0.1830556903583095\n",
      "918\n",
      "1 1 0.9233333333333333\n",
      "0.18433265866876816 0.18434265508255895\n",
      "900\n",
      "2 1 0.9233333333333333\n",
      "0.1860422523241154 0.18605223406658583\n",
      "874\n",
      "3 1 0.9233333333333333\n",
      "0.21537876929005212 0.21538874098415206\n",
      "531\n",
      "4 1 0.915\n",
      "0.34235336769326874 0.34236335170585164\n",
      "146\n",
      "5 1 0.9133333333333333\n",
      "0.7001554785790057 0.7001633301427239\n",
      "29\n",
      "6 1 0.9033333333333333\n",
      "1.2823721659759877 1.2823721659880989\n",
      "11\n",
      "7 1 0.8316666666666667\n",
      "1.556320077650452 1.556320077650452\n",
      "11\n",
      "8 1 0.5583333333333333\n",
      "0.18111163030132368 0.1811216080046989\n",
      "759\n",
      "0 2 0.9216666666666666\n",
      "0.18127387460712735 0.18128385044213274\n",
      "757\n",
      "1 2 0.9216666666666666\n",
      "0.18265632435939408 0.18266631097961333\n",
      "737\n",
      "2 2 0.9233333333333333\n",
      "0.1845075688344895 0.18451756232146652\n",
      "708\n",
      "3 2 0.9233333333333333\n",
      "0.2148104242689508 0.21482036632931845\n",
      "400\n",
      "4 2 0.915\n",
      "0.34223897221791516 0.3422488348672067\n",
      "106\n",
      "5 2 0.9133333333333333\n",
      "0.7001633620083556 3556)0.700172782557238\n",
      "20\n",
      "6 2 0.9016666666666666\n",
      "1.2818746015008622 1.2818746015008624\n",
      "11\n",
      "7 2 0.8066666666666666\n",
      "1.555790659819505 1.555790659819505\n",
      "11\n",
      "8 2 0.6566666666666666\n",
      "0.18005700493523552 0.18006700462343722\n",
      "661\n",
      "0 3 0.9233333333333333\n",
      "0.18022534328888953 0.18023533748578943\n",
      "659\n",
      "1 3 0.9216666666666666\n",
      "0.18167566923421777 0.18168566742136857\n",
      "638\n",
      "2 3 0.9216666666666666\n",
      "0.18362146286763922 0.18363145257347666\n",
      "608\n",
      "3 3 0.9233333333333333\n",
      "0.21452164872041893 0.21453160521959952\n",
      "325\n",
      "4 3 0.915\n",
      "0.34218504258041854 0.34219495999157895\n",
      "84\n",
      "5 3 0.9133333333333333\n",
      "0.7002354615316491 0.7002429315409893\n",
      "16\n",
      "6 3 0.9016666666666666\n",
      "1.2817795152149398 1.2817795152149398\n",
      "11\n",
      "7 3 0.7816666666666666\n",
      "1.5563788073022122 1.5563788073022122\n",
      "11\n",
      "8 3 0.64\n",
      "0.1793207580527234 0.1793307304083655\n",
      "595\n",
      "0 4 0.9233333333333333\n",
      "0.1795039861508285 0.17951398166247343\n",
      "592\n",
      "1 4 0.9233333333333333\n",
      "0.18101143815901086 0.18102143708426094\n",
      "570\n",
      "2 4 0.9216666666666666\n",
      "0.1830351662370903 0.183045152726631\n",
      "539\n",
      "3 4 0.9233333333333333\n",
      "0.21433565966524637 0.2143456035011097\n",
      "276\n",
      "4 4 0.9166666666666666\n",
      "0.3421475793383735 0.34215757510598166\n",
      "70\n",
      "5 4 0.915\n",
      "0.7003355112021931 0.7003442523129769\n",
      "13\n",
      "6 4 0.9\n",
      "1.2816126603140827 1.2816126603140827\n",
      "11\n",
      "7 4 0.7566666666666667\n",
      "1.5571317300606367 1.5571317300606367\n",
      "11\n",
      "8 4 0.6116666666666667\n"
     ]
    }
   ],
   "source": [
    "for m in range(0,len(batch)):\n",
    "    for n in range(0,len(alpha)):\n",
    "        w_initial = np.ones(28*5).reshape(28, 5)\n",
    "        w_initial = (w_initial.T - w_initial.T[0]).T\n",
    "        costAr = []\n",
    "        k = batch[m]\n",
    "        l = X_train.shape[0]\n",
    "        costAr.append(0)\n",
    "        for j in range(1, int(params[2])):\n",
    "            for i in range(0,k):\n",
    "                grad  = gradient(X_train[int((l/k)*i):int((l/k)*(i+1)),:] , Y_train[int((l/k)*i):int((l/k)*(i+1)),:], w_initial)\n",
    "                w_initial = w_initial+params[1]*(grad-alpha[n]*w_initial)\n",
    "                w_initial = (w_initial.T - w_initial.T[0]).T\n",
    "            c = cost(w_initial,X_train,Y_train)\n",
    "            print((j,c), end=\"\\r\", flush=True)\n",
    "            costAr.append(c)\n",
    "            if(costAr[j-1]-costAr[j]<.00001 and j>10):\n",
    "                print(costAr[j],costAr[j-1])\n",
    "                break\n",
    "        print(j)\n",
    "        w_initial = (w_initial.T - w_initial.T[0]).T\n",
    "        WmulX = np.exp(np.matmul(X_test, w_initial))\n",
    "        denom = np.sum(WmulX, axis=1)\n",
    "        Y_predict = np.divide(WmulX, denom.reshape(len(X_test), 1))\n",
    "        b = np.zeros_like(Y_predict)\n",
    "        b[np.arange(len(Y_predict)), Y_predict.argmax(1)] = 1\n",
    "        Y_predict = b\n",
    "        accuracy = np.trace(np.matmul(Y_predict, Y_test.T))/len(X_test)\n",
    "        print(n,m,accuracy)\n",
    "        a[n][m]=accuracy        "
   ]
  },
  {
   "cell_type": "code",
   "execution_count": null,
   "metadata": {},
   "outputs": [],
   "source": [
    "# part a\n",
    "if(params[0] == 1):\n",
    "    w_initial = np.ones(28*5).reshape(28, 5)\n",
    "    w_initial = (w_initial.T - w_initial.T[0]).T\n",
    "    costAr = []\n",
    "    costAr.append(0)\n",
    "    for j in range(1, int(params[2])):\n",
    "        grad = gradient(X_train,Y_train,w_initial)\n",
    "        w_initial = w_initial+params[1]*grad \n",
    "        w_initial = (w_initial.T - w_initial.T[0]).T\n",
    "        c = cost(w_initial,X_train,Y_train)\n",
    "        print((j,c), end=\"\\r\", flush=True)\n",
    "        costAr.append(c)\n",
    "        if(costAr[j-1]-costAr[j]<.00001 and j>10):\n",
    "            print(costAr[j],costAr[j-1])\n",
    "            break\n",
    "if(params[0] == 2):\n",
    "    w_initial = np.ones(28*5).reshape(28, 5)\n",
    "    w_initial = (w_initial.T - w_initial.T[0]).T\n",
    "    costAr = []\n",
    "    costAr.append(0)\n",
    "    for j in range(1, int(params[2])):\n",
    "        grad = gradient(X_train,Y_train,w_initial)\n",
    "        w_initial = w_initial+(params[1]/np.sqrt(j))*grad \n",
    "        w_initial = (w_initial.T - w_initial.T[0]).T\n",
    "        c = cost(w_initial,X_train,Y_train)\n",
    "        print((j,c), end=\"\\r\", flush=True)\n",
    "        costAr.append(c)\n",
    "        if(costAr[j-1]-costAr[j]<.00001 and j>20):\n",
    "            print(costAr[j],costAr[j-1])\n",
    "            break"
   ]
  },
  {
   "cell_type": "code",
   "execution_count": 31,
   "metadata": {},
   "outputs": [
    {
     "name": "stdout",
     "output_type": "stream",
     "text": [
      "199999, 0.44979943661567906, 0.001)\n"
     ]
    }
   ],
   "source": [
    "# part a\n",
    "if(params[0] == 1):\n",
    "    w_initial = np.ones(28*5).reshape(28, 5)\n",
    "    w_initial = (w_initial.T - w_initial.T[0]).T\n",
    "    costAr = []\n",
    "    costAr.append(0)\n",
    "    for j in range(1, int(params[2])):\n",
    "        grad = gradient(X_train,Y_train,w_initial)\n",
    "        w_initial = w_initial+params[1]*grad \n",
    "        w_initial = (w_initial.T - w_initial.T[0]).T\n",
    "        c = cost(w_initial,X_train,Y_train)\n",
    "        print((j,c), end=\"\\r\", flush=True)\n",
    "        costAr.append(c)\n",
    "        if(costAr[j-1]-costAr[j]<.00001 and j>10):\n",
    "            print(costAr[j],costAr[j-1])\n",
    "            break\n",
    "if(params[0] == 2):\n",
    "    w_initial = np.ones(28*5).reshape(28, 5)\n",
    "    w_initial = (w_initial.T - w_initial.T[0]).T\n",
    "    costAr = []\n",
    "    costAr.append(0)\n",
    "    for j in range(1, int(params[2])):\n",
    "        grad = gradient(X_train,Y_train,w_initial)\n",
    "        w_initial = w_initial+(params[1]/np.sqrt(j))*grad \n",
    "        w_initial = (w_initial.T - w_initial.T[0]).T\n",
    "        c = cost(w_initial,X_train,Y_train)\n",
    "        print((j,c), end=\"\\r\", flush=True)\n",
    "        costAr.append(c)\n",
    "        if(costAr[j-1]-costAr[j]<.00001 and j>20):\n",
    "            print(costAr[j],costAr[j-1])\n",
    "            break\n",
    "if(params[0] == 3):\n",
    "    w_initial = np.zeros(28*5).reshape(28, 5)\n",
    "    costAr = []\n",
    "    costAr.append(0)\n",
    "    alpha = params[2]\n",
    "    beta = params[3]\n",
    "    n =params[1]\n",
    "    # print(params[3])\n",
    "    for j in range(1, int(params[4])*2):\n",
    "        grad = gradient(X_train,Y_train,w_initial)\n",
    "        while(cost(w_initial+n*grad,X_train,Y_train) > cost(w_initial,X_train,Y_train)-alpha*n*np.dot(grad.reshape(140,1).T,grad.reshape(140,1))[0][0]):\n",
    "            n*=beta\n",
    "        w_initial = w_initial+n*grad \n",
    "        c = cost(w_initial,X_train,Y_train)\n",
    "        print((j,c,n), end=\"\\r\", flush=True)\n",
    "        costAr.append(c)\n",
    "        if(abs(costAr[j-1]-costAr[j])<.000001 and j>1):\n",
    "            break\n",
    "    print(j)             "
   ]
  },
  {
   "cell_type": "markdown",
   "metadata": {},
   "source": [
    "# For backtracking"
   ]
  },
  {
   "cell_type": "code",
   "execution_count": 33,
   "metadata": {},
   "outputs": [
    {
     "data": {
      "image/png": "[encoded data removed]",
      "text/plain": [
       "<Figure size 432x288 with 1 Axes>"
      ]
     },
     "metadata": {
      "needs_background": "light"
     },
     "output_type": "display_data"
    }
   ],
   "source": [
    "import matplotlib.pyplot as plt\n",
    "plt.plot(range(0, len(costAr[1:10000])),costAr[1:10000],color = \"black\")\n",
    "plt.show()"
   ]
  },
  {
   "cell_type": "markdown",
   "metadata": {},
   "source": [
    "# For Constant Learning rate"
   ]
  },
  {
   "cell_type": "code",
   "execution_count": 26,
   "metadata": {},
   "outputs": [
    {
     "data": {
      "image/png": "[encoded data removed]",
      "text/plain": [
       "<Figure size 432x288 with 1 Axes>"
      ]
     },
     "metadata": {
      "needs_background": "light"
     },
     "output_type": "display_data"
    }
   ],
   "source": [
    "import matplotlib.pyplot as plt\n",
    "plt.plot(range(0, len(costAr[1:])),costAr[1:],color = \"black\")\n",
    "plt.show()"
   ]
  },
  {
   "cell_type": "markdown",
   "metadata": {},
   "source": [
    "# For adaptive learning"
   ]
  },
  {
   "cell_type": "code",
   "execution_count": 24,
   "metadata": {},
   "outputs": [
    {
     "data": {
      "image/png": "[encoded data removed]",
      "text/plain": [
       "<Figure size 432x288 with 1 Axes>"
      ]
     },
     "metadata": {
      "needs_background": "light"
     },
     "output_type": "display_data"
    }
   ],
   "source": [
    "import matplotlib.pyplot as plt\n",
    "plt.plot(range(0, len(costAr[1:])),costAr[1:],color = \"black\")\n",
    "plt.show()"
   ]
  },
  {
   "cell_type": "code",
   "execution_count": null,
   "metadata": {},
   "outputs": [],
   "source": [
    "w_initial = np.random.rand(28, 5)\n",
    "w_initial = (w_initial.T - w_initial.T[0]).T\n",
    "# w_temp = np.zeros(28*5).reshape(28,5)\n",
    "k =1\n",
    "l = X_train.shape[0]\n",
    "costAr = []\n",
    "for j in range(1, 10000):\n",
    "    for i in range(0,k):\n",
    "        grad  = gradient(X_train[int((l/k)*i):int((l/k)*(i+1)),:] , Y_train[int((l/k)*i):int((l/k)*(i+1)),:], w_initial)\n",
    "        grad = gradient(X_train,Y_train,w_initial)\n",
    "        w_initial = w_initial+(params[1]/((l/k)))*grad  \n",
    "        w_initial = (w_initial.T - w_initial.T[0]).T\n",
    "    w_temp = w_initial\n",
    "    l = cost(w_temp,X_train,Y_train)\n",
    "    print((j,l), end=\"\\r\", flush=True)\n",
    "    costAr.append(l)"
   ]
  },
  {
   "cell_type": "code",
   "execution_count": null,
   "metadata": {},
   "outputs": [],
   "source": [
    "import matplotlib.pyplot as plt\n",
    "plt.plot(range(0, len(costAr[1000:2000])),costAr[1000:2000])\n",
    "plt.show()"
   ]
  },
  {
   "cell_type": "code",
   "execution_count": null,
   "metadata": {},
   "outputs": [],
   "source": [
    "import matplotlib.pyplot as plt\n",
    "plt.plot(range(0, len(costAr)),costAr)\n",
    "plt.show()"
   ]
  },
  {
   "cell_type": "code",
   "execution_count": null,
   "metadata": {},
   "outputs": [],
   "source": []
  },
  {
   "cell_type": "code",
   "execution_count": null,
   "metadata": {},
   "outputs": [],
   "source": []
  },
  {
   "cell_type": "code",
   "execution_count": null,
   "metadata": {},
   "outputs": [],
   "source": [
    "Y_predict[:,0] =1*Y_predict[:,0]\n",
    "Y_predict[:,1] =2*Y_predict[:,1]\n",
    "Y_predict[:,2] =3*Y_predict[:,2]\n",
    "Y_predict[:,3] =4*Y_predict[:,3]\n",
    "Y_predict[:,4] =5*Y_predict[:,4]\n",
    "Y_predict = np.sum(Y_predict,axis=1).tolist()\n",
    "predict = []\n",
    "for i in range(0,len(Y_predict)):\n",
    "    if(Y_predict[i]==1):\n",
    "        predict.append(\"not_recom\")\n",
    "    elif(Y_predict[i]==2):\n",
    "        predict.append(\"recommend\")\n",
    "    elif(Y_predict[i]==3):\n",
    "        predict.append(\"very_recom\")\n",
    "    elif(Y_predict[i]==4):\n",
    "        predict.append(\"priority\")\n",
    "    elif(Y_predict[i]==5):\n",
    "        predict.append(\"spec_prior\")\n",
    "\n",
    "Y_predict = pd.DataFrame(predict)\n",
    "Y_predict.to_csv(data_dir+sys.argv[4], header=False, index=False)"
   ]
  },
  {
   "cell_type": "code",
   "execution_count": null,
   "metadata": {},
   "outputs": [],
   "source": [
    "w_initial = pd.DataFrame(w_initial)\n",
    "w_initial.to_csv(data_dir+sys.argv[5], header=False, index=False)\n",
    "# print(accuracy)"
   ]
  },
  {
   "cell_type": "code",
   "execution_count": null,
   "metadata": {},
   "outputs": [],
   "source": [
    "Y_predict"
   ]
  },
  {
   "cell_type": "code",
   "execution_count": null,
   "metadata": {},
   "outputs": [],
   "source": [
    "np.nonzero(w_initial)[0].shape"
   ]
  },
  {
   "cell_type": "code",
   "execution_count": null,
   "metadata": {},
   "outputs": [],
   "source": [
    "print(features.shape,w_initial.shape)"
   ]
  },
  {
   "cell_type": "code",
   "execution_count": null,
   "metadata": {},
   "outputs": [],
   "source": [
    "WmulX = np.exp(np.matmul(X_train,w_initial))\n",
    "denom = np.sum(WmulX,axis=1)\n",
    "Y_predict = np.divide(WmulX,denom.reshape(6000,1))\n",
    "Y_predict[Y_predict>0.5]=1\n",
    "Y_predict[Y_predict<0.5]=0\n",
    "accuracy = np.trace(np.matmul(Y_predict,Y_train.T))/(6000)\n",
    "print((\"   accuracy=\"+str(accuracy*100)+\"%\"),end=\"\\r\",)"
   ]
  },
  {
   "cell_type": "code",
   "execution_count": null,
   "metadata": {},
   "outputs": [],
   "source": [
    "WmulX = np.exp(np.matmul(X_test,w_initial))\n",
    "denom = np.sum(WmulX,axis=1)\n",
    "Y_predict = np.divide(WmulX,denom.reshape(600,1))\n",
    "Y_predict[Y_predict>=0.5]=1\n",
    "Y_predict[Y_predict<0.5]=0"
   ]
  },
  {
   "cell_type": "code",
   "execution_count": null,
   "metadata": {},
   "outputs": [],
   "source": [
    "Y_predict*Y_test"
   ]
  },
  {
   "cell_type": "code",
   "execution_count": null,
   "metadata": {},
   "outputs": [],
   "source": [
    "Y_predict.astype(\"int\")"
   ]
  },
  {
   "cell_type": "code",
   "execution_count": null,
   "metadata": {},
   "outputs": [],
   "source": [
    "np.trace(np.matmul(Y_predict,Y_test.T))"
   ]
  },
  {
   "cell_type": "code",
   "execution_count": null,
   "metadata": {},
   "outputs": [],
   "source": [
    "import matplotlib.pyplot as plt\n"
   ]
  },
  {
   "cell_type": "code",
   "execution_count": null,
   "metadata": {},
   "outputs": [],
   "source": [
    "# print(features.shape,labels.shape)\n",
    "# pyplot.bar(range(0,len(er)),[er,erMin])\n",
    "df1 = pd.DataFrame({'Y_predict': (Y_predict)[:100,1], 'Y_test': Y_test[:100,1]})\n",
    "df1.plot(kind='bar',figsize=(30,30))\n",
    "plt.grid(which='major', linestyle='-', linewidth='0.5', color='green')\n",
    "plt.grid(which='minor', linestyle=':', linewidth='0.5', color='black')\n",
    "plt.show()"
   ]
  },
  {
   "cell_type": "code",
   "execution_count": null,
   "metadata": {},
   "outputs": [],
   "source": []
  }
 ],
 "metadata": {
  "kernelspec": {
   "display_name": "Python 3",
   "language": "python",
   "name": "python3"
  },
  "language_info": {
   "codemirror_mode": {
    "name": "ipython",
    "version": 3
   },
   "file_extension": ".py",
   "mimetype": "text/x-python",
   "name": "python",
   "nbconvert_exporter": "python",
   "pygments_lexer": "ipython3",
   "version": "3.7.3"
  }
 },
 "nbformat": 4,
 "nbformat_minor": 2
}
