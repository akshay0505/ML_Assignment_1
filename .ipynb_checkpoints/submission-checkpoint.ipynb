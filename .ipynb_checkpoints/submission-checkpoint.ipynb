{
 "cells": [
  {
   "cell_type": "code",
   "execution_count": 1,
   "metadata": {},
   "outputs": [],
   "source": [
    "import pandas as pd\n",
    "import numpy as np\n",
    "import os\n",
    "import matplotlib.pyplot as plt\n",
    "from sklearn.linear_model import LassoLars\n"
   ]
  },
  {
   "cell_type": "code",
   "execution_count": 495,
   "metadata": {},
   "outputs": [
    {
     "data": {
      "text/html": [
       "<div>\n",
       "<style scoped>\n",
       "    .dataframe tbody tr th:only-of-type {\n",
       "        vertical-align: middle;\n",
       "    }\n",
       "\n",
       "    .dataframe tbody tr th {\n",
       "        vertical-align: top;\n",
       "    }\n",
       "\n",
       "    .dataframe thead th {\n",
       "        text-align: right;\n",
       "    }\n",
       "</style>\n",
       "<table border=\"1\" class=\"dataframe\">\n",
       "  <thead>\n",
       "    <tr style=\"text-align: right;\">\n",
       "      <th></th>\n",
       "      <th>0</th>\n",
       "      <th>1</th>\n",
       "      <th>2</th>\n",
       "      <th>3</th>\n",
       "      <th>4</th>\n",
       "      <th>5</th>\n",
       "      <th>6</th>\n",
       "      <th>7</th>\n",
       "      <th>8</th>\n",
       "      <th>9</th>\n",
       "      <th>...</th>\n",
       "      <th>236</th>\n",
       "      <th>237</th>\n",
       "      <th>238</th>\n",
       "      <th>239</th>\n",
       "      <th>240</th>\n",
       "      <th>241</th>\n",
       "      <th>242</th>\n",
       "      <th>243</th>\n",
       "      <th>244</th>\n",
       "      <th>245</th>\n",
       "    </tr>\n",
       "  </thead>\n",
       "  <tbody>\n",
       "    <tr>\n",
       "      <th>0</th>\n",
       "      <td>43.437500</td>\n",
       "      <td>75.562500</td>\n",
       "      <td>0.0</td>\n",
       "      <td>634.0</td>\n",
       "      <td>20.0</td>\n",
       "      <td>16.000000</td>\n",
       "      <td>44.562500</td>\n",
       "      <td>0.0</td>\n",
       "      <td>473.0</td>\n",
       "      <td>2.0</td>\n",
       "      <td>...</td>\n",
       "      <td>0.0</td>\n",
       "      <td>0.0</td>\n",
       "      <td>1.0</td>\n",
       "      <td>0.0</td>\n",
       "      <td>0.0</td>\n",
       "      <td>0.0</td>\n",
       "      <td>0.0</td>\n",
       "      <td>0.0</td>\n",
       "      <td>0.0</td>\n",
       "      <td>1.0</td>\n",
       "    </tr>\n",
       "    <tr>\n",
       "      <th>1</th>\n",
       "      <td>47.781250</td>\n",
       "      <td>93.750000</td>\n",
       "      <td>1.0</td>\n",
       "      <td>598.0</td>\n",
       "      <td>7.5</td>\n",
       "      <td>17.859375</td>\n",
       "      <td>56.875000</td>\n",
       "      <td>0.0</td>\n",
       "      <td>594.0</td>\n",
       "      <td>1.0</td>\n",
       "      <td>...</td>\n",
       "      <td>1.0</td>\n",
       "      <td>0.0</td>\n",
       "      <td>0.0</td>\n",
       "      <td>0.0</td>\n",
       "      <td>0.0</td>\n",
       "      <td>0.0</td>\n",
       "      <td>0.0</td>\n",
       "      <td>0.0</td>\n",
       "      <td>0.0</td>\n",
       "      <td>52.0</td>\n",
       "    </tr>\n",
       "    <tr>\n",
       "      <th>2</th>\n",
       "      <td>2.273438</td>\n",
       "      <td>4.984375</td>\n",
       "      <td>0.0</td>\n",
       "      <td>44.0</td>\n",
       "      <td>1.0</td>\n",
       "      <td>1.029297</td>\n",
       "      <td>3.003906</td>\n",
       "      <td>0.0</td>\n",
       "      <td>37.0</td>\n",
       "      <td>0.0</td>\n",
       "      <td>...</td>\n",
       "      <td>0.0</td>\n",
       "      <td>0.0</td>\n",
       "      <td>0.0</td>\n",
       "      <td>0.0</td>\n",
       "      <td>0.0</td>\n",
       "      <td>1.0</td>\n",
       "      <td>0.0</td>\n",
       "      <td>0.0</td>\n",
       "      <td>0.0</td>\n",
       "      <td>0.0</td>\n",
       "    </tr>\n",
       "    <tr>\n",
       "      <th>3</th>\n",
       "      <td>10.148438</td>\n",
       "      <td>32.406250</td>\n",
       "      <td>0.0</td>\n",
       "      <td>292.0</td>\n",
       "      <td>0.0</td>\n",
       "      <td>5.152344</td>\n",
       "      <td>20.453125</td>\n",
       "      <td>0.0</td>\n",
       "      <td>220.0</td>\n",
       "      <td>0.0</td>\n",
       "      <td>...</td>\n",
       "      <td>1.0</td>\n",
       "      <td>0.0</td>\n",
       "      <td>0.0</td>\n",
       "      <td>0.0</td>\n",
       "      <td>0.0</td>\n",
       "      <td>0.0</td>\n",
       "      <td>1.0</td>\n",
       "      <td>0.0</td>\n",
       "      <td>0.0</td>\n",
       "      <td>0.0</td>\n",
       "    </tr>\n",
       "    <tr>\n",
       "      <th>4</th>\n",
       "      <td>2.285156</td>\n",
       "      <td>8.414062</td>\n",
       "      <td>0.0</td>\n",
       "      <td>102.0</td>\n",
       "      <td>1.0</td>\n",
       "      <td>0.973633</td>\n",
       "      <td>4.722656</td>\n",
       "      <td>0.0</td>\n",
       "      <td>93.0</td>\n",
       "      <td>0.0</td>\n",
       "      <td>...</td>\n",
       "      <td>0.0</td>\n",
       "      <td>0.0</td>\n",
       "      <td>0.0</td>\n",
       "      <td>0.0</td>\n",
       "      <td>0.0</td>\n",
       "      <td>1.0</td>\n",
       "      <td>0.0</td>\n",
       "      <td>0.0</td>\n",
       "      <td>0.0</td>\n",
       "      <td>0.0</td>\n",
       "    </tr>\n",
       "  </tbody>\n",
       "</table>\n",
       "<p>5 rows × 246 columns</p>\n",
       "</div>"
      ],
      "text/plain": [
       "         0          1    2      3     4          5          6    7      8    \\\n",
       "0  43.437500  75.562500  0.0  634.0  20.0  16.000000  44.562500  0.0  473.0   \n",
       "1  47.781250  93.750000  1.0  598.0   7.5  17.859375  56.875000  0.0  594.0   \n",
       "2   2.273438   4.984375  0.0   44.0   1.0   1.029297   3.003906  0.0   37.0   \n",
       "3  10.148438  32.406250  0.0  292.0   0.0   5.152344  20.453125  0.0  220.0   \n",
       "4   2.285156   8.414062  0.0  102.0   1.0   0.973633   4.722656  0.0   93.0   \n",
       "\n",
       "   9    ...  236  237  238  239  240  241  242  243  244   245  \n",
       "0  2.0  ...  0.0  0.0  1.0  0.0  0.0  0.0  0.0  0.0  0.0   1.0  \n",
       "1  1.0  ...  1.0  0.0  0.0  0.0  0.0  0.0  0.0  0.0  0.0  52.0  \n",
       "2  0.0  ...  0.0  0.0  0.0  0.0  0.0  1.0  0.0  0.0  0.0   0.0  \n",
       "3  0.0  ...  1.0  0.0  0.0  0.0  0.0  0.0  1.0  0.0  0.0   0.0  \n",
       "4  0.0  ...  0.0  0.0  0.0  0.0  0.0  1.0  0.0  0.0  0.0   0.0  \n",
       "\n",
       "[5 rows x 246 columns]"
      ]
     },
     "execution_count": 495,
     "metadata": {},
     "output_type": "execute_result"
    }
   ],
   "source": [
    "# trainDf.head()"
   ]
  },
  {
   "cell_type": "code",
   "execution_count": 701,
   "metadata": {},
   "outputs": [],
   "source": [
    "data_dir = os.getcwd()+\"/data/\"\n",
    "trainDf= pd.read_csv(data_dir+\"trainfile.csv\",header=None)\n",
    "labels = trainDf.iloc[:,245].values\n",
    "trainDf = trainDf.drop(columns=[245])\n",
    "features = trainDf.iloc[:,:].values"
   ]
  },
  {
   "cell_type": "code",
   "execution_count": 426,
   "metadata": {},
   "outputs": [
    {
     "data": {
      "text/plain": [
       "array([1807,  863,  860, ..., 1248, 1245,  625])"
      ]
     },
     "execution_count": 426,
     "metadata": {},
     "output_type": "execute_result"
    }
   ],
   "source": []
  },
  {
   "cell_type": "code",
   "execution_count": 429,
   "metadata": {},
   "outputs": [
    {
     "data": {
      "text/plain": [
       "0.012097802389264462"
      ]
     },
     "execution_count": 429,
     "metadata": {},
     "output_type": "execute_result"
    }
   ],
   "source": [
    "np.array(model.feature_importances_)[625]"
   ]
  },
  {
   "cell_type": "code",
   "execution_count": 355,
   "metadata": {},
   "outputs": [
    {
     "name": "stdout",
     "output_type": "stream",
     "text": [
      "(30000, 245) (30000,)\n"
     ]
    }
   ],
   "source": [
    "print(features.shape,labels.shape)"
   ]
  },
  {
   "cell_type": "code",
   "execution_count": 267,
   "metadata": {},
   "outputs": [
    {
     "data": {
      "text/plain": [
       "(30000,)"
      ]
     },
     "execution_count": 267,
     "metadata": {},
     "output_type": "execute_result"
    }
   ],
   "source": [
    "np.sum(features[:,54:231],axis=1).shape"
   ]
  },
  {
   "cell_type": "code",
   "execution_count": 674,
   "metadata": {},
   "outputs": [],
   "source": [
    "goodfe = [4, 104, 203, 167, 173, 146, 1, 121,  58,  14,  16, 216, 241,0, 137, 196, 50, 20, 106, 183,60,181, 68,\n",
    " 202 ,132,9 ,236, 238 ,239, 237   ,6, 240 ,231  ,10,  51 ,230  ,49, 232 ,235,48,234,\n",
    " 233 , 11,  18,  53,  12,   3,  46,  44,  47,  45, 52] "
   ]
  },
  {
   "cell_type": "code",
   "execution_count": 703,
   "metadata": {},
   "outputs": [],
   "source": [
    "for i in range(0,245):\n",
    "    trainDf[245+i] = np.log(features[:,i]+abs(np.min(features[:,i]))+1)"
   ]
  },
  {
   "cell_type": "code",
   "execution_count": 697,
   "metadata": {},
   "outputs": [],
   "source": [
    "trainDf[245]  = np.log(features[:,52]+1)\n",
    "trainDf[246]  = np.log(features[:,45]+1)\n",
    "trainDf[247]  = np.log(features[:,44]+1)\n",
    "# trainDf[248]  = np.log(features[:,47]+1)\n",
    "# trainDf[249]  = np.log(features[:,46]+1)\n",
    "# trainDf[250]  = features[:,45]/24  # comment rate before 24 hours\n",
    "# trainDf[251]  = features[:,44]/(features[:,52]+1)   # comment rate before base time\n",
    "# trainDf[252]  = np.sum(features[:,54:203],axis=1)   # sum of words in post\n",
    "# trainDf[249]  = (features[:,44]+1)/(features[:,53]+1)\n",
    "# trainDf[245]  = np.log(features[:,44]+1)"
   ]
  },
  {
   "cell_type": "code",
   "execution_count": 704,
   "metadata": {},
   "outputs": [],
   "source": [
    "features = trainDf.iloc[:,:].values\n",
    "# features.shape"
   ]
  },
  {
   "cell_type": "code",
   "execution_count": 686,
   "metadata": {},
   "outputs": [],
   "source": [
    "feature1 = np.multiply(features[:,246].reshape(30000,1),features)\n",
    "feature2 = np.multiply(features[:,247].reshape(30000,1),features)\n",
    "# feature3 = np.multiply(features[:,52].reshape(30000,1),features)\n",
    "newFeature = np.concatenate((features,feature1),axis=1)\n",
    "features = newFeature"
   ]
  },
  {
   "cell_type": "code",
   "execution_count": 705,
   "metadata": {},
   "outputs": [
    {
     "name": "stderr",
     "output_type": "stream",
     "text": [
      "//anaconda3/lib/python3.7/site-packages/sklearn/ensemble/forest.py:245: FutureWarning: The default value of n_estimators will change from 10 in version 0.20 to 100 in 0.22.\n",
      "  \"10 in version 0.20 to 100 in 0.22.\", FutureWarning)\n"
     ]
    },
    {
     "name": "stdout",
     "output_type": "stream",
     "text": [
      "[148 416 393 153 358 130 301  56 438 338 212 113 398 325 280 457 171 108\n",
      "  74 468  93  95 465 353 302 193  80  43 110 220 317 340  25 229 390 322\n",
      "  57  35 327 115 316 288 328 352 145 360 319 144 375  96 432 474  71 159\n",
      "  82 223 419 341  77  97 187 270  72 309 429 143  83  64 184 404 439 323\n",
      " 208 342 388 335 174  67 276 392 194  31   7 315 180 453 355  90 107 450\n",
      "  78 128 312 425 147  84 389 151 205 133  70 437 182  54 384 307 131 378\n",
      "  62 470 306 369 417  61 329 430 336 435  91 150 127  65 372 226 396 427\n",
      " 373 139 452 376 422 420 225 454 472 101 190 299 207 433 334 346 188 395\n",
      " 124 407 371 199 192 175 162 172 397 227 185 152 252 209 177  89 114 126\n",
      " 471 359 446 444 129 201 374 197  79  69 206 310 119 314 473 451 228 442\n",
      " 364 462 464 324 111 219 356 424 195 142 284 217 387 401 211  39 440 156\n",
      " 320 102 347 176  75 410 179 272 463 421 381 165 136 247 405 163 354 169\n",
      "  92 218 357  27   2 408 160 488 222 467 109  66 414 458 456 244 189 243\n",
      " 394 213 337 221 149 466 311 161 117 100 120 168 489 141  73 385 406 112\n",
      " 413 318 140  63  22 345 434 386 332 339 365 135 267 210  94 105  87 380\n",
      " 469 455 333 362 224 308 379 350 204 116 155 400  23 361 436  41 191 286\n",
      " 269 134 275 118 285  30 287  37 178 344 423 281 277 273  36 449  42  24\n",
      " 363  33  28 103 278  88 186 348 271  12 331  76 415  86 321 431 268 274\n",
      "  38 459  29 402  99 170 367  17  40 123 283 368  14 370   8 399 125 157\n",
      " 122 279  11 264  34   1 265  15 154 257 138 214  26 383 242 403 487 326\n",
      "  32  81 282 255   4 200 164 166 260 411   3 330 249  16 248 215 409 198\n",
      " 158   5 445 460  85 448  98  19 256  21 251  59 300 343 253 441  18 349\n",
      " 443 146 167 259 104 304 203 261   0 418  55 241 391 173  10 412 377 351\n",
      "  68 183  50 216 106 313  13 428 305 366 181 303 486 461  60 121 137 382\n",
      " 426 246   6 202 447 295 196 239  58 481 483 484 132 238 482 258 236 254\n",
      " 237 485 240   9 476 296 477  49  48 231 480  51 294 230 293 475 478 234\n",
      " 232 233 235 479  53 298  20 263 250 245 266 262  46 291  47  44  45 292\n",
      " 289 290  52 297]\n"
     ]
    },
    {
     "data": {
      "image/png": "[encoded data removed]",
      "text/plain": [
       "<Figure size 1440x720 with 1 Axes>"
      ]
     },
     "metadata": {
      "needs_background": "light"
     },
     "output_type": "display_data"
    }
   ],
   "source": [
    "\n",
    "from matplotlib import pyplot\n",
    "\n",
    "from sklearn import datasets\n",
    "from sklearn import metrics\n",
    "from sklearn.ensemble import ExtraTreesClassifier\n",
    "\n",
    "model = ExtraTreesClassifier()\n",
    "model.fit(features[:,:], labels)\n",
    "# display the relative importance of each attribute\n",
    "print(np.argsort(np.array(model.feature_importances_)))\n",
    "# load data\n",
    "plt.figure(figsize=(20,10))\n",
    "pyplot.bar(range(len(model.feature_importances_)), model.feature_importances_)\n",
    "pyplot.show()"
   ]
  },
  {
   "cell_type": "code",
   "execution_count": 700,
   "metadata": {},
   "outputs": [
    {
     "data": {
      "text/plain": [
       "1.0"
      ]
     },
     "execution_count": 700,
     "metadata": {},
     "output_type": "execute_result"
    }
   ],
   "source": []
  },
  {
   "cell_type": "code",
   "execution_count": 547,
   "metadata": {},
   "outputs": [
    {
     "name": "stdout",
     "output_type": "stream",
     "text": [
      "(array([202]),) 52\n"
     ]
    }
   ],
   "source": [
    "print(np.where(d==232),d[45])"
   ]
  },
  {
   "cell_type": "code",
   "execution_count": 147,
   "metadata": {},
   "outputs": [],
   "source": [
    "features1 = features[:,45].reshape(30000,1)+features[:,49].reshape(30000,1)+features[:,53].reshape(30000,1)+features[:,54].reshape(30000,1)\n"
   ]
  },
  {
   "cell_type": "code",
   "execution_count": 594,
   "metadata": {},
   "outputs": [],
   "source": [
    "feature5 = np.multiply(features[:,290].reshape(30000,1),features)\n",
    "newFeature = np.concatenate((features,feature5,np.multiply(features[:,251].reshape(30000,1),features),np.multiply(features[:,252].reshape(30000,1),features),np.multiply(features[:,52].reshape(30000,1),features),np.multiply(features[:,247].reshape(30000,1),features),np.multiply(features[:,246].reshape(30000,1),features)),axis=1)\n",
    "features = newFeature"
   ]
  },
  {
   "cell_type": "code",
   "execution_count": 470,
   "metadata": {},
   "outputs": [],
   "source": [
    "# feature1 = np.multiply(((features[:,45])**(1/2)).reshape(30000,1),features)\n",
    "# feature2 = np.multiply(features[:,49].reshape(30000,1),features)\n",
    "# feature3 = np.multiply(features[:,53].reshape(30000,1),features)\n",
    "# feature4 = np.multiply(features[:,54].reshape(30000,1),features)\n",
    "feature5 = np.multiply(features[:,246].reshape(30000,1),features)\n",
    "newFeature = np.concatenate((features,feature5),axis=1)\n",
    "features = newFeature\n"
   ]
  },
  {
   "cell_type": "code",
   "execution_count": 434,
   "metadata": {},
   "outputs": [],
   "source": [
    "feature5 = np.multiply(features[:,52].reshape(30000,1),features)\n",
    "newFeature = np.concatenate((features,feature5),axis=1)\n",
    "features = newFeature"
   ]
  },
  {
   "cell_type": "code",
   "execution_count": 472,
   "metadata": {},
   "outputs": [],
   "source": [
    "feature5 = np.multiply(features[:,245].reshape(30000,1),features)\n",
    "newFeature = np.concatenate((features,feature5),axis=1)\n",
    "features = newFeature"
   ]
  },
  {
   "cell_type": "code",
   "execution_count": 160,
   "metadata": {},
   "outputs": [],
   "source": [
    "newFeature = np.concatenate((features,feature5),axis=1)\n",
    "features = newFeature\n"
   ]
  },
  {
   "cell_type": "code",
   "execution_count": 73,
   "metadata": {},
   "outputs": [],
   "source": [
    "newFeature = np.concatenate((features,feature1,feature2,feature3,feature4),axis=1)"
   ]
  },
  {
   "cell_type": "code",
   "execution_count": 530,
   "metadata": {},
   "outputs": [
    {
     "name": "stdout",
     "output_type": "stream",
     "text": [
      "(30000, 245) (30000,)\n"
     ]
    }
   ],
   "source": [
    "print(features.shape,labels.shape)"
   ]
  },
  {
   "cell_type": "code",
   "execution_count": 706,
   "metadata": {},
   "outputs": [],
   "source": [
    "features = features[:,245:]"
   ]
  },
  {
   "cell_type": "code",
   "execution_count": 18,
   "metadata": {},
   "outputs": [],
   "source": [
    "trainDf = pd.DataFrame(trainDf.sort_values([0,1]).values)\n",
    "# trainDf = pd.DataFrame(trainDf.sort_values(1).values)"
   ]
  },
  {
   "cell_type": "code",
   "execution_count": 239,
   "metadata": {},
   "outputs": [],
   "source": [
    "features = trainDf.iloc[:,:].values\n"
   ]
  },
  {
   "cell_type": "code",
   "execution_count": 707,
   "metadata": {
    "scrolled": true
   },
   "outputs": [
    {
     "name": "stdout",
     "output_type": "stream",
     "text": [
      "0\n",
      "(3000, 245) (3000,) (27000, 245) (27000,)\n",
      "1\n",
      "(3000, 245) (3000,) (27000, 245) (27000,)\n",
      "2\n",
      "(3000, 245) (3000,) (27000, 245) (27000,)\n",
      "3\n",
      "(3000, 245) (3000,) (27000, 245) (27000,)\n",
      "4\n",
      "(3000, 245) (3000,) (27000, 245) (27000,)\n",
      "5\n",
      "(3000, 245) (3000,) (27000, 245) (27000,)\n",
      "6\n",
      "(3000, 245) (3000,) (27000, 245) (27000,)\n",
      "7\n",
      "(3000, 245) (3000,) (27000, 245) (27000,)\n",
      "8\n",
      "(3000, 245) (3000,) (27000, 245) (27000,)\n",
      "9\n",
      "(3000, 245) (3000,) (27000, 245) (27000,)\n"
     ]
    },
    {
     "data": {
      "text/plain": [
       "<matplotlib.collections.PathCollection at 0x1a216ca0b8>"
      ]
     },
     "execution_count": 707,
     "metadata": {},
     "output_type": "execute_result"
    },
    {
     "data": {
      "image/png": "[encoded data removed]",
      "text/plain": [
       "<Figure size 432x288 with 1 Axes>"
      ]
     },
     "metadata": {
      "needs_background": "light"
     },
     "output_type": "display_data"
    }
   ],
   "source": [
    "k = 10\n",
    "lossmin = np.inf\n",
    "j=0;\n",
    "error = []\n",
    "l = 30000\n",
    "for i in range(0,k):\n",
    "    print(i)\n",
    "    X_test = features[int(i*l/k):int((i+1)*l/k)]\n",
    "    Y_test = labels[int(i*l/k):int((i+1)*l/k)]\n",
    "    X_train = np.concatenate((features[:int(i*l/k)],features[int((i+1)*l/k):]),axis=0)\n",
    "    Y_train = np.concatenate((labels[:int(i*l/k)],labels[int((i+1)*l/k):]),axis=0)\n",
    "    print(X_test.shape,Y_test.shape,X_train.shape,Y_train.shape)\n",
    "    reg = LassoLars(alpha=.0003)\n",
    "    reg.fit(X_train,Y_train)\n",
    "    Y_predicted = reg.predict(X_test)\n",
    "    diff = Y_predicted-Y_test\n",
    "    normError = ((np.linalg.norm(diff)**2)/np.matmul(Y_test.T,Y_test))\n",
    "    if(normError<lossmin):\n",
    "        lossmin = normError\n",
    "    error.append(normError)\n",
    "er.append(np.mean(error))\n",
    "erMin.append(np.min(error))\n",
    "plt.scatter(range(0,k),error)    \n"
   ]
  },
  {
   "cell_type": "code",
   "execution_count": 708,
   "metadata": {},
   "outputs": [
    {
     "name": "stdout",
     "output_type": "stream",
     "text": [
      "(30000, 245) (30000,)\n"
     ]
    },
    {
     "data": {
      "image/png": "[encoded data removed]",
      "text/plain": [
       "<Figure size 1080x720 with 1 Axes>"
      ]
     },
     "metadata": {
      "needs_background": "light"
     },
     "output_type": "display_data"
    }
   ],
   "source": [
    "print(features.shape,labels.shape)\n",
    "# pyplot.bar(range(0,len(er)),[er,erMin])\n",
    "df1 = pd.DataFrame({'AverageError': er, 'MinError': erMin})\n",
    "df1.plot(kind='bar',figsize=(15,10))\n",
    "plt.grid(which='major', linestyle='-', linewidth='0.5', color='green')\n",
    "plt.grid(which='minor', linestyle=':', linewidth='0.5', color='black')\n",
    "plt.show()"
   ]
  },
  {
   "cell_type": "code",
   "execution_count": 664,
   "metadata": {},
   "outputs": [
    {
     "data": {
      "text/plain": [
       "0.45861030343588005"
      ]
     },
     "execution_count": 664,
     "metadata": {},
     "output_type": "execute_result"
    }
   ],
   "source": [
    "min(er)"
   ]
  },
  {
   "cell_type": "code",
   "execution_count": null,
   "metadata": {},
   "outputs": [],
   "source": [
    "[ 35, 108,  56, 193,  95, 113,  93, 153, 130,  74, 145, 212, 107,\n",
    "       148,  80, 220,  77, 171,  43, 110,  25,  71, 115,  97, 229, 223,\n",
    "       194, 174,  57,  72, 143,  83, 147,  64, 144,  96, 159, 208,  67,\n",
    "       187, 139,  82, 184,  31,  78,  70,  90, 180,  84, 133, 131,  54,\n",
    "        61, 205,  62, 151, 190, 192, 172, 225, 185,   7, 209, 177, 182,\n",
    "       226, 101, 207, 128,  91, 188, 124, 127, 175,  89, 227, 152, 199,\n",
    "       150,  69, 162, 129, 126,  79, 111,  65, 119, 197, 201,  39, 206,\n",
    "       114, 219, 195, 228, 142, 217, 179, 102, 211,  75,   2, 165, 136,\n",
    "       156, 176, 169, 163, 160,  92, 213, 218, 109, 243, 149, 161, 222,\n",
    "       112, 100,  66, 244, 168, 189,  27,  73, 120,  87, 221, 140, 141,\n",
    "       135,  94,  22, 117,  37,  63, 210, 105,  42,  34, 224,  36, 191,\n",
    "       155,  28,  32, 116, 178, 134,  23,  33,  24,  41,  38, 118, 204,\n",
    "        88,  30,  40,  76, 103,  99,  86, 186, 122, 123, 157, 170,  15,\n",
    "        26, 125,  29, 214, 154,  81,   6,  13, 242,   1, 164, 158, 138,\n",
    "         0, 200, 215, 166, 167, 198,  85,   5,  17, 203,  98,   4,  59,\n",
    "       146, 173, 104,  55,   8, 121,  68, 216, 241, 181, 196,  10,  58,\n",
    "       183, 106,  21,  60, 137,  14,   9, 202, 132, 239, 236, 237,  11,\n",
    "       238,   3,  50,  19, 240,  12,  20,  51,  49,  16, 231, 232,  48,\n",
    "       230, 234, 235,  18, 233,  53,  46,  47,  44,  45,  52]\n"
   ]
  },
  {
   "cell_type": "code",
   "execution_count": 573,
   "metadata": {},
   "outputs": [],
   "source": [
    "er=[]\n",
    "erMin = []"
   ]
  },
  {
   "cell_type": "code",
   "execution_count": 545,
   "metadata": {},
   "outputs": [
    {
     "name": "stdout",
     "output_type": "stream",
     "text": [
      "0.48607888469450045 0.5955234678399479\n"
     ]
    }
   ],
   "source": [
    "print(np.min(error),np.mean(error))"
   ]
  },
  {
   "cell_type": "code",
   "execution_count": 414,
   "metadata": {},
   "outputs": [
    {
     "name": "stdout",
     "output_type": "stream",
     "text": [
      "0.3016366204966131 0.4407118247751665\n"
     ]
    }
   ],
   "source": [
    "print(np.min(error),np.mean(error))"
   ]
  },
  {
   "cell_type": "code",
   "execution_count": 294,
   "metadata": {
    "scrolled": true
   },
   "outputs": [
    {
     "data": {
      "image/png": "[encoded data removed]",
      "text/plain": [
       "<Figure size 1152x720 with 1 Axes>"
      ]
     },
     "metadata": {
      "needs_background": "light"
     },
     "output_type": "display_data"
    }
   ],
   "source": [
    "df = pd.DataFrame({'Actual': Y_test.flatten(), 'Predicted': Y_predicted.flatten()})\n",
    "df1 = df[100:150]\n",
    "df1.plot(kind='bar',figsize=(16,10))\n",
    "plt.grid(which='major', linestyle='-', linewidth='0.5', color='green')\n",
    "plt.grid(which='minor', linestyle=':', linewidth='0.5', color='black')\n",
    "plt.show()"
   ]
  },
  {
   "cell_type": "code",
   "execution_count": null,
   "metadata": {},
   "outputs": [],
   "source": [
    "np.argsort(reg.coef_)"
   ]
  },
  {
   "cell_type": "code",
   "execution_count": 295,
   "metadata": {},
   "outputs": [],
   "source": [
    "a = [13, 18, 33, 38, 43, 46, 55, 60, 73, 76, 80, 81, 90, 94, 97, 130, 132, 149, 155, 156, 161, 166, 169, 172, 179, 190, 198, 200, 212, 236, 243, 250, 269, 276, 278]"
   ]
  },
  {
   "cell_type": "code",
   "execution_count": 297,
   "metadata": {},
   "outputs": [],
   "source": [
    "ind = np.array(a)-1"
   ]
  },
  {
   "cell_type": "code",
   "execution_count": 328,
   "metadata": {},
   "outputs": [],
   "source": [
    "attr = list(range(1,281))"
   ]
  },
  {
   "cell_type": "code",
   "execution_count": 329,
   "metadata": {},
   "outputs": [],
   "source": [
    "for x in a:\n",
    "    attr[x-1] = 0"
   ]
  },
  {
   "cell_type": "code",
   "execution_count": 330,
   "metadata": {},
   "outputs": [],
   "source": [
    "d = np.array(attr)"
   ]
  },
  {
   "cell_type": "code",
   "execution_count": 335,
   "metadata": {},
   "outputs": [],
   "source": [
    "d=d[d>0]"
   ]
  },
  {
   "cell_type": "code",
   "execution_count": 453,
   "metadata": {},
   "outputs": [
    {
     "data": {
      "text/plain": [
       "(array([52]),)"
      ]
     },
     "execution_count": 453,
     "metadata": {},
     "output_type": "execute_result"
    }
   ],
   "source": [
    "np.where(d==61)\n",
    "d[45]"
   ]
  },
  {
   "cell_type": "code",
   "execution_count": 532,
   "metadata": {},
   "outputs": [
    {
     "data": {
      "text/plain": [
       "52"
      ]
     },
     "execution_count": 532,
     "metadata": {},
     "output_type": "execute_result"
    }
   ],
   "source": [
    "d[45]"
   ]
  },
  {
   "cell_type": "code",
   "execution_count": 323,
   "metadata": {},
   "outputs": [],
   "source": [
    "[ 35, 108,  56, 193,  95, 113,  93, 153, 130,  74, 145, 212, 107,\n",
    "       148,  80, 220,  77, 171,  43, 110,  25,  71, 115,  97, 229, 223,\n",
    "       194, 174,  57,  72, 143,  83, 147,  64, 144,  96, 159, 208,  67,\n",
    "       187, 139,  82, 184,  31,  78,  70,  90, 180,  84, 133, 131,  54,\n",
    "        61, 205,  62, 151, 190, 192, 172, 225, 185,   7, 209, 177, 182,\n",
    "       226, 101, 207, 128,  91, 188, 124, 127, 175,  89, 227, 152, 199,\n",
    "       150,  69, 162, 129, 126,  79, 111,  65, 119, 197, 201,  39, 206,\n",
    "       114, 219, 195, 228, 142, 217, 179, 102, 211,  75,   2, 165, 136,\n",
    "       156, 176, 169, 163, 160,  92, 213, 218, 109, 243, 149, 161, 222,\n",
    "       112, 100,  66, 244, 168, 189,  27,  73, 120,  87, 221, 140, 141,\n",
    "       135,  94,  22, 117,  37,  63, 210, 105,  42,  34, 224,  36, 191,\n",
    "       155,  28,  32, 116, 178, 134,  23,  33,  24,  41,  38, 118, 204,\n",
    "        88,  30,  40,  76, 103,  99,  86, 186, 122, 123, 157, 170,  15,\n",
    "        26, 125,  29, 214, 154,  81,   6,  13, 242,   1, 164, 158, 138,\n",
    "         0, 200, 215, 166, 167, 198,  85,   5,  17, 203,  98,   4,  59,\n",
    "       146, 173, 104,  55,   8, 121,  68, 216, 241, 181, 196,  10,  58,\n",
    "       183, 106,  21,  60, 137,  14,   9, 202, 132, 239, 236, 237,  11,\n",
    "       238,   3,  50,  19, 240,  12,  20,  51,  49,  16, 231, 232,  48,\n",
    "       230, 234, 235,  18, 233,  53,  46,  47,  44,  45,  52]\n"
   ]
  },
  {
   "cell_type": "code",
   "execution_count": 324,
   "metadata": {},
   "outputs": [
    {
     "data": {
      "text/plain": [
       "[0,\n",
       " 1,\n",
       " 2,\n",
       " 3,\n",
       " 4,\n",
       " 5,\n",
       " 6,\n",
       " 7,\n",
       " 8,\n",
       " 9,\n",
       " 10,\n",
       " 11,\n",
       " 13,\n",
       " 14,\n",
       " 15,\n",
       " 16,\n",
       " 18,\n",
       " 19,\n",
       " 20,\n",
       " 21,\n",
       " 22,\n",
       " 23,\n",
       " 24,\n",
       " 25,\n",
       " 26,\n",
       " 27,\n",
       " 28,\n",
       " 29,\n",
       " 30,\n",
       " 31,\n",
       " 33,\n",
       " 34,\n",
       " 35,\n",
       " 36,\n",
       " 38,\n",
       " 39,\n",
       " 40,\n",
       " 41,\n",
       " 43,\n",
       " 44,\n",
       " 46,\n",
       " 47,\n",
       " 48,\n",
       " 49,\n",
       " 50,\n",
       " 51,\n",
       " 52,\n",
       " 53,\n",
       " 55,\n",
       " 56,\n",
       " 57,\n",
       " 58,\n",
       " 60,\n",
       " 61,\n",
       " 62,\n",
       " 63,\n",
       " 64,\n",
       " 65,\n",
       " 66,\n",
       " 67,\n",
       " 68,\n",
       " 69,\n",
       " 70,\n",
       " 71,\n",
       " 73,\n",
       " 74,\n",
       " 76,\n",
       " 77,\n",
       " 78,\n",
       " 81,\n",
       " 82,\n",
       " 83,\n",
       " 84,\n",
       " 85,\n",
       " 86,\n",
       " 87,\n",
       " 88,\n",
       " 90,\n",
       " 91,\n",
       " 92,\n",
       " 94,\n",
       " 95,\n",
       " 97,\n",
       " 98,\n",
       " 99,\n",
       " 100,\n",
       " 101,\n",
       " 102,\n",
       " 103,\n",
       " 104,\n",
       " 105,\n",
       " 106,\n",
       " 107,\n",
       " 108,\n",
       " 109,\n",
       " 110,\n",
       " 111,\n",
       " 112,\n",
       " 113,\n",
       " 114,\n",
       " 115,\n",
       " 116,\n",
       " 117,\n",
       " 118,\n",
       " 119,\n",
       " 120,\n",
       " 121,\n",
       " 122,\n",
       " 123,\n",
       " 124,\n",
       " 125,\n",
       " 126,\n",
       " 127,\n",
       " 128,\n",
       " 130,\n",
       " 132,\n",
       " 133,\n",
       " 134,\n",
       " 135,\n",
       " 136,\n",
       " 137,\n",
       " 138,\n",
       " 139,\n",
       " 140,\n",
       " 141,\n",
       " 142,\n",
       " 143,\n",
       " 144,\n",
       " 145,\n",
       " 146,\n",
       " 147,\n",
       " 149,\n",
       " 150,\n",
       " 151,\n",
       " 152,\n",
       " 153,\n",
       " 156,\n",
       " 157,\n",
       " 158,\n",
       " 159,\n",
       " 161,\n",
       " 162,\n",
       " 163,\n",
       " 164,\n",
       " 166,\n",
       " 167,\n",
       " 169,\n",
       " 170,\n",
       " 172,\n",
       " 173,\n",
       " 174,\n",
       " 175,\n",
       " 176,\n",
       " 177,\n",
       " 179,\n",
       " 180,\n",
       " 181,\n",
       " 182,\n",
       " 183,\n",
       " 184,\n",
       " 185,\n",
       " 186,\n",
       " 187,\n",
       " 188,\n",
       " 190,\n",
       " 191,\n",
       " 192,\n",
       " 193,\n",
       " 194,\n",
       " 195,\n",
       " 196,\n",
       " 198,\n",
       " 200,\n",
       " 201,\n",
       " 202,\n",
       " 203,\n",
       " 204,\n",
       " 205,\n",
       " 206,\n",
       " 207,\n",
       " 208,\n",
       " 209,\n",
       " 210,\n",
       " 212,\n",
       " 213,\n",
       " 214,\n",
       " 215,\n",
       " 216,\n",
       " 217,\n",
       " 218,\n",
       " 219,\n",
       " 220,\n",
       " 221,\n",
       " 222,\n",
       " 223,\n",
       " 224,\n",
       " 225,\n",
       " 226,\n",
       " 227,\n",
       " 228,\n",
       " 229,\n",
       " 230,\n",
       " 231,\n",
       " 232,\n",
       " 233,\n",
       " 234,\n",
       " 236,\n",
       " 237,\n",
       " 238,\n",
       " 239,\n",
       " 240,\n",
       " 241,\n",
       " 243,\n",
       " 244,\n",
       " 245,\n",
       " 246,\n",
       " 247,\n",
       " 248,\n",
       " 250,\n",
       " 251,\n",
       " 252,\n",
       " 253,\n",
       " 254,\n",
       " 255,\n",
       " 256,\n",
       " 257,\n",
       " 258,\n",
       " 259,\n",
       " 260,\n",
       " 261,\n",
       " 262,\n",
       " 263,\n",
       " 264,\n",
       " 265,\n",
       " 266,\n",
       " 267,\n",
       " 269,\n",
       " 270,\n",
       " 271,\n",
       " 272,\n",
       " 273,\n",
       " 274,\n",
       " 276,\n",
       " 278,\n",
       " 279]"
      ]
     },
     "execution_count": 324,
     "metadata": {},
     "output_type": "execute_result"
    }
   ],
   "source": [
    "index"
   ]
  },
  {
   "cell_type": "code",
   "execution_count": 327,
   "metadata": {},
   "outputs": [
    {
     "data": {
      "text/plain": [
       "[1,\n",
       " 2,\n",
       " 3,\n",
       " 4,\n",
       " 5,\n",
       " 6,\n",
       " 7,\n",
       " 8,\n",
       " 9,\n",
       " 10,\n",
       " 11,\n",
       " 12,\n",
       " 13,\n",
       " 14,\n",
       " 15,\n",
       " 16,\n",
       " 17,\n",
       " 18,\n",
       " 19,\n",
       " 20,\n",
       " 21,\n",
       " 22,\n",
       " 23,\n",
       " 24,\n",
       " 25,\n",
       " 26,\n",
       " 27,\n",
       " 28,\n",
       " 29,\n",
       " 30,\n",
       " 31,\n",
       " 32,\n",
       " 33,\n",
       " 34,\n",
       " 35,\n",
       " 36,\n",
       " 37,\n",
       " 38,\n",
       " 39,\n",
       " 40,\n",
       " 41,\n",
       " 42,\n",
       " 43,\n",
       " 44,\n",
       " 45,\n",
       " 46,\n",
       " 47,\n",
       " 48,\n",
       " 49,\n",
       " 50,\n",
       " 51,\n",
       " 52,\n",
       " 53,\n",
       " 54,\n",
       " 55,\n",
       " 56,\n",
       " 57,\n",
       " 58,\n",
       " 59,\n",
       " 60,\n",
       " 61,\n",
       " 62,\n",
       " 63,\n",
       " 64,\n",
       " 65,\n",
       " 66,\n",
       " 67,\n",
       " 68,\n",
       " 69,\n",
       " 70,\n",
       " 71,\n",
       " 72,\n",
       " 73,\n",
       " 74,\n",
       " 75,\n",
       " 76,\n",
       " 77,\n",
       " 78,\n",
       " 79,\n",
       " 80,\n",
       " 81,\n",
       " 82,\n",
       " 83,\n",
       " 84,\n",
       " 85,\n",
       " 86,\n",
       " 87,\n",
       " 88,\n",
       " 89,\n",
       " 90,\n",
       " 91,\n",
       " 92,\n",
       " 93,\n",
       " 94,\n",
       " 95,\n",
       " 96,\n",
       " 97,\n",
       " 98,\n",
       " 99,\n",
       " 100,\n",
       " 101,\n",
       " 102,\n",
       " 103,\n",
       " 104,\n",
       " 105,\n",
       " 106,\n",
       " 107,\n",
       " 108,\n",
       " 109,\n",
       " 110,\n",
       " 111,\n",
       " 112,\n",
       " 113,\n",
       " 114,\n",
       " 115,\n",
       " 116,\n",
       " 117,\n",
       " 118,\n",
       " 119,\n",
       " 120,\n",
       " 121,\n",
       " 122,\n",
       " 123,\n",
       " 124,\n",
       " 125,\n",
       " 126,\n",
       " 127,\n",
       " 128,\n",
       " 129,\n",
       " 130,\n",
       " 131,\n",
       " 132,\n",
       " 133,\n",
       " 134,\n",
       " 135,\n",
       " 136,\n",
       " 137,\n",
       " 138,\n",
       " 139,\n",
       " 140,\n",
       " 141,\n",
       " 142,\n",
       " 143,\n",
       " 144,\n",
       " 145,\n",
       " 146,\n",
       " 147,\n",
       " 148,\n",
       " 149,\n",
       " 150,\n",
       " 151,\n",
       " 152,\n",
       " 153,\n",
       " 154,\n",
       " 155,\n",
       " 156,\n",
       " 157,\n",
       " 158,\n",
       " 159,\n",
       " 160,\n",
       " 161,\n",
       " 162,\n",
       " 163,\n",
       " 164,\n",
       " 165,\n",
       " 166,\n",
       " 167,\n",
       " 168,\n",
       " 169,\n",
       " 170,\n",
       " 171,\n",
       " 172,\n",
       " 173,\n",
       " 174,\n",
       " 175,\n",
       " 176,\n",
       " 177,\n",
       " 178,\n",
       " 179,\n",
       " 180,\n",
       " 181,\n",
       " 182,\n",
       " 183,\n",
       " 184,\n",
       " 185,\n",
       " 186,\n",
       " 187,\n",
       " 188,\n",
       " 189,\n",
       " 190,\n",
       " 191,\n",
       " 192,\n",
       " 193,\n",
       " 194,\n",
       " 195,\n",
       " 196,\n",
       " 197,\n",
       " 198,\n",
       " 199,\n",
       " 200,\n",
       " 201,\n",
       " 202,\n",
       " 203,\n",
       " 204,\n",
       " 205,\n",
       " 206,\n",
       " 207,\n",
       " 208,\n",
       " 209,\n",
       " 210,\n",
       " 211,\n",
       " 212,\n",
       " 213,\n",
       " 214,\n",
       " 215,\n",
       " 216,\n",
       " 217,\n",
       " 218,\n",
       " 219,\n",
       " 220,\n",
       " 221,\n",
       " 222,\n",
       " 223,\n",
       " 224,\n",
       " 225,\n",
       " 226,\n",
       " 227,\n",
       " 228,\n",
       " 229,\n",
       " 230,\n",
       " 231,\n",
       " 232,\n",
       " 233,\n",
       " 234,\n",
       " 235,\n",
       " 236,\n",
       " 237,\n",
       " 238,\n",
       " 239,\n",
       " 240,\n",
       " 241,\n",
       " 242,\n",
       " 243,\n",
       " 244,\n",
       " 245,\n",
       " 246,\n",
       " 247,\n",
       " 248,\n",
       " 249,\n",
       " 250,\n",
       " 251,\n",
       " 252,\n",
       " 253,\n",
       " 254,\n",
       " 255,\n",
       " 256,\n",
       " 257,\n",
       " 258,\n",
       " 259,\n",
       " 260,\n",
       " 261,\n",
       " 262,\n",
       " 263,\n",
       " 264,\n",
       " 265,\n",
       " 266,\n",
       " 267,\n",
       " 268,\n",
       " 269,\n",
       " 270,\n",
       " 271,\n",
       " 272,\n",
       " 273,\n",
       " 274,\n",
       " 275,\n",
       " 276,\n",
       " 277,\n",
       " 278,\n",
       " 279,\n",
       " 280]"
      ]
     },
     "execution_count": 327,
     "metadata": {},
     "output_type": "execute_result"
    }
   ],
   "source": [
    "attr"
   ]
  },
  {
   "cell_type": "code",
   "execution_count": 322,
   "metadata": {},
   "outputs": [
    {
     "ename": "IndexError",
     "evalue": "list index out of range",
     "output_type": "error",
     "traceback": [
      "\u001b[0;31m---------------------------------------------------------------------------\u001b[0m",
      "\u001b[0;31mIndexError\u001b[0m                                Traceback (most recent call last)",
      "\u001b[0;32m<ipython-input-322-d14daf349e45>\u001b[0m in \u001b[0;36m<module>\u001b[0;34m\u001b[0m\n\u001b[1;32m      1\u001b[0m \u001b[0;32mfor\u001b[0m \u001b[0mx\u001b[0m \u001b[0;32min\u001b[0m \u001b[0mattr\u001b[0m\u001b[0;34m:\u001b[0m\u001b[0;34m\u001b[0m\u001b[0;34m\u001b[0m\u001b[0m\n\u001b[0;32m----> 2\u001b[0;31m     \u001b[0mattr\u001b[0m\u001b[0;34m[\u001b[0m\u001b[0mx\u001b[0m\u001b[0;34m]\u001b[0m \u001b[0;34m=\u001b[0m \u001b[0mindex\u001b[0m\u001b[0;34m[\u001b[0m\u001b[0mx\u001b[0m\u001b[0;34m-\u001b[0m\u001b[0;36m1\u001b[0m\u001b[0;34m]\u001b[0m\u001b[0;34m\u001b[0m\u001b[0;34m\u001b[0m\u001b[0m\n\u001b[0m",
      "\u001b[0;31mIndexError\u001b[0m: list index out of range"
     ]
    }
   ],
   "source": [
    "for x in range(1,281):\n",
    "    attr[x] = index[x-1]"
   ]
  },
  {
   "cell_type": "code",
   "execution_count": null,
   "metadata": {},
   "outputs": [],
   "source": []
  }
 ],
 "metadata": {
  "kernelspec": {
   "display_name": "Python 3",
   "language": "python",
   "name": "python3"
  },
  "language_info": {
   "codemirror_mode": {
    "name": "ipython",
    "version": 3
   },
   "file_extension": ".py",
   "mimetype": "text/x-python",
   "name": "python",
   "nbconvert_exporter": "python",
   "pygments_lexer": "ipython3",
   "version": "3.7.3"
  }
 },
 "nbformat": 4,
 "nbformat_minor": 2
}
