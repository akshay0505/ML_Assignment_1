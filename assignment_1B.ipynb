{
 "cells": [
  {
   "cell_type": "code",
   "execution_count": 1,
   "metadata": {},
   "outputs": [],
   "source": [
    "import pandas as pd\n",
    "import numpy as np\n",
    "import os\n",
    "import sys\n",
    "data_dir = os.getcwd()+\"/log_data/\"\n",
    "sys.argv = [\"file\",\"train.csv\", \"test.csv\", \"param_a.txt\" ,\"outputfile.csv\", \"weightfile.csv\"]"
   ]
  },
  {
   "cell_type": "code",
   "execution_count": 2,
   "metadata": {},
   "outputs": [],
   "source": [
    "def hotencode_train(data):\n",
    "    train = pd.DataFrame()\n",
    "    parents = pd.get_dummies(data[0], prefix=\"parents\")\n",
    "    has_nurs = pd.get_dummies(data[1], prefix=\"has_nurs\")\n",
    "    form = pd.get_dummies(data[2], prefix=\"form\")\n",
    "    children = pd.get_dummies(data[3], prefix=\"children\")\n",
    "    housing = pd.get_dummies(data[4], prefix=\"housing\")\n",
    "    finance = pd.get_dummies(data[5], prefix=\"finance\")\n",
    "    social = pd.get_dummies(data[6], prefix=\"social\")\n",
    "    health = pd.get_dummies(data[7], prefix=\"health\")\n",
    "    classDistribution = pd.get_dummies(data[8], prefix=\"class\")\n",
    "    train = pd.concat([parents, has_nurs, form, children, housing,\n",
    "                    finance, social, health, classDistribution], axis=1)\n",
    "    cols = ['parents_usual', 'parents_pretentious', 'parents_great_pret', 'has_nurs_proper', 'has_nurs_less_proper', 'has_nurs_improper',\n",
    "            'has_nurs_critical', 'has_nurs_very_crit',\n",
    "            'form_complete', 'form_completed', 'form_incomplete', 'form_foster',\n",
    "            'children_1', 'children_2', 'children_3', 'children_more',\n",
    "            'housing_convenient', 'housing_less_conv', 'housing_critical',\n",
    "            'finance_convenient', 'finance_inconv',\n",
    "            'social_nonprob', 'social_slightly_prob', 'social_problematic',\n",
    "            'health_recommended', 'health_priority', 'health_not_recom',\n",
    "            'class_not_recom', 'class_recommend', 'class_very_recom', 'class_priority', 'class_spec_prior']\n",
    "\n",
    "    return train[pd.Index(cols)]"
   ]
  },
  {
   "cell_type": "code",
   "execution_count": 3,
   "metadata": {},
   "outputs": [],
   "source": [
    "def hotencode_test(data):\n",
    "    train = pd.DataFrame()\n",
    "    parents = pd.get_dummies(data[0], prefix=\"parents\")\n",
    "    has_nurs = pd.get_dummies(data[1], prefix=\"has_nurs\")\n",
    "    form = pd.get_dummies(data[2], prefix=\"form\")\n",
    "    children = pd.get_dummies(data[3], prefix=\"children\")\n",
    "    housing = pd.get_dummies(data[4], prefix=\"housing\")\n",
    "    finance = pd.get_dummies(data[5], prefix=\"finance\")\n",
    "    social = pd.get_dummies(data[6], prefix=\"social\")\n",
    "    health = pd.get_dummies(data[7], prefix=\"health\")\n",
    "    train = pd.concat([parents, has_nurs, form, children, housing,\n",
    "                    finance, social, health], axis=1)\n",
    "    cols = ['parents_usual', 'parents_pretentious', 'parents_great_pret', 'has_nurs_proper', 'has_nurs_less_proper', 'has_nurs_improper',\n",
    "            'has_nurs_critical', 'has_nurs_very_crit',\n",
    "            'form_complete', 'form_completed', 'form_incomplete', 'form_foster',\n",
    "            'children_1', 'children_2', 'children_3', 'children_more',\n",
    "            'housing_convenient', 'housing_less_conv', 'housing_critical',\n",
    "            'finance_convenient', 'finance_inconv',\n",
    "            'social_nonprob', 'social_slightly_prob', 'social_problematic',\n",
    "            'health_recommended', 'health_priority', 'health_not_recom']\n",
    "    return train[pd.Index(cols)]"
   ]
  },
  {
   "cell_type": "code",
   "execution_count": 65,
   "metadata": {},
   "outputs": [],
   "source": [
    "train_data = pd.read_csv(data_dir+sys.argv[1], header=None)\n",
    "test_data = pd.read_csv(data_dir+sys.argv[2], header=None)\n",
    "params = np.loadtxt(data_dir+sys.argv[3])\n",
    "train_data = hotencode_train(train_data)\n",
    "test_data = hotencode_test(test_data)"
   ]
  },
  {
   "cell_type": "code",
   "execution_count": 66,
   "metadata": {},
   "outputs": [
    {
     "name": "stdout",
     "output_type": "stream",
     "text": [
      "(6000, 32) (2000, 27)\n"
     ]
    }
   ],
   "source": [
    "print(train_data.shape,test_data.shape)"
   ]
  },
  {
   "cell_type": "code",
   "execution_count": 67,
   "metadata": {},
   "outputs": [],
   "source": [
    "classes = train_data.iloc[:,-5:].values\n",
    "features = train_data.iloc[:,:-5].values\n",
    "features = np.c_[np.ones(len(train_data)),features]"
   ]
  },
  {
   "cell_type": "code",
   "execution_count": 71,
   "metadata": {},
   "outputs": [],
   "source": [
    "X_train = features[:5400,:]\n",
    "Y_train = classes[:5400,:]"
   ]
  },
  {
   "cell_type": "code",
   "execution_count": 69,
   "metadata": {},
   "outputs": [],
   "source": [
    "testFeatures = test_data.iloc[:,:].values\n",
    "testFeatures = np.c_[np.ones(len(test_data)),testFeatures]\n",
    "X_test = features[:,:]\n",
    "Y_test = classes[:,:]"
   ]
  },
  {
   "cell_type": "code",
   "execution_count": 27,
   "metadata": {},
   "outputs": [],
   "source": [
    "# import seaborn as sn\n",
    "# sn.heatmap(test_data.isnull(),yticklabels=False)\n",
    "# train_data.isnull().sum()\n"
   ]
  },
  {
   "cell_type": "code",
   "execution_count": 28,
   "metadata": {},
   "outputs": [
    {
     "name": "stdout",
     "output_type": "stream",
     "text": [
      "(5400, 28) (5400, 2) (2000, 28)\n"
     ]
    }
   ],
   "source": [
    "print(X_train[:5400,:].shape,Y_train[:5400,:2].shape,X_test.shape)"
   ]
  },
  {
   "cell_type": "code",
   "execution_count": 12,
   "metadata": {},
   "outputs": [
    {
     "name": "stdout",
     "output_type": "stream",
     "text": [
      "(6000, 28) (6000, 5) (2000, 28)\n"
     ]
    }
   ],
   "source": [
    "print(X_train.shape,Y_train.shape,X_test.shape)\n",
    "w_initial = np.ones(28*5).reshape(28, 5)"
   ]
  },
  {
   "cell_type": "code",
   "execution_count": 13,
   "metadata": {},
   "outputs": [],
   "source": [
    "def gradient(X,Y,W):\n",
    "    XW = np.exp(np.matmul(X, W))\n",
    "    denom = np.sum(XW, axis=1)\n",
    "    Y_predict = np.divide(XW, denom.reshape(X.shape[0], 1))\n",
    "    return np.matmul(X.transpose(), Y - Y_predict)/X.shape[0]"
   ]
  },
  {
   "cell_type": "code",
   "execution_count": 73,
   "metadata": {},
   "outputs": [],
   "source": [
    "def cost2(W,X,Y):\n",
    "    XW = np.exp(np.matmul(X,W))\n",
    "    denom = np.sum(XW, axis=1)\n",
    "    Y_predict = np.divide(XW, denom.reshape(X.shape[0], 1))\n",
    "    error = -np.trace(np.matmul(Y.T,np.log(Y_predict)))/X.shape[0]\n",
    "    return err\n",
    " "
   ]
  },
  {
   "cell_type": "code",
   "execution_count": 61,
   "metadata": {},
   "outputs": [],
   "source": [
    "def cost(W,X,Y):\n",
    "    XW = np.exp(np.matmul(X,W))\n",
    "    logTerm = np.log(np.sum(XW,axis=1))\n",
    "    weightedTerm = np.sum(np.multiply(np.matmul(Y,W.T),X),axis=1)\n",
    "    error = np.sum(logTerm-weightedTerm)/X.shape[0]\n",
    "    return error"
   ]
  },
  {
   "cell_type": "code",
   "execution_count": 63,
   "metadata": {
    "scrolled": true
   },
   "outputs": [
    {
     "name": "stdout",
     "output_type": "stream",
     "text": [
      "(287, 549.3176002485799))\r"
     ]
    },
    {
     "ename": "KeyboardInterrupt",
     "evalue": "",
     "output_type": "error",
     "traceback": [
      "\u001b[0;31m---------------------------------------------------------------------------\u001b[0m",
      "\u001b[0;31mKeyboardInterrupt\u001b[0m                         Traceback (most recent call last)",
      "\u001b[0;32m<ipython-input-63-3c01c0231b2f>\u001b[0m in \u001b[0;36m<module>\u001b[0;34m\u001b[0m\n\u001b[1;32m      4\u001b[0m \u001b[0mcostAr\u001b[0m \u001b[0;34m=\u001b[0m \u001b[0;34m[\u001b[0m\u001b[0;34m]\u001b[0m\u001b[0;34m\u001b[0m\u001b[0;34m\u001b[0m\u001b[0m\n\u001b[1;32m      5\u001b[0m \u001b[0;32mfor\u001b[0m \u001b[0mj\u001b[0m \u001b[0;32min\u001b[0m \u001b[0mrange\u001b[0m\u001b[0;34m(\u001b[0m\u001b[0;36m1\u001b[0m\u001b[0;34m,\u001b[0m \u001b[0;36m40000\u001b[0m\u001b[0;34m)\u001b[0m\u001b[0;34m:\u001b[0m\u001b[0;34m\u001b[0m\u001b[0;34m\u001b[0m\u001b[0m\n\u001b[0;32m----> 6\u001b[0;31m     \u001b[0mgrad\u001b[0m \u001b[0;34m=\u001b[0m \u001b[0mgradient\u001b[0m\u001b[0;34m(\u001b[0m\u001b[0mX_train\u001b[0m\u001b[0;34m,\u001b[0m\u001b[0mY_train\u001b[0m\u001b[0;34m,\u001b[0m\u001b[0mw_initial\u001b[0m\u001b[0;34m)\u001b[0m\u001b[0;34m\u001b[0m\u001b[0;34m\u001b[0m\u001b[0m\n\u001b[0m\u001b[1;32m      7\u001b[0m     \u001b[0mw_initial\u001b[0m \u001b[0;34m=\u001b[0m \u001b[0mw_initial\u001b[0m\u001b[0;34m-\u001b[0m\u001b[0;36m0.1\u001b[0m\u001b[0;34m*\u001b[0m\u001b[0mgrad\u001b[0m\u001b[0;34m\u001b[0m\u001b[0;34m\u001b[0m\u001b[0m\n\u001b[1;32m      8\u001b[0m     \u001b[0mc\u001b[0m \u001b[0;34m=\u001b[0m \u001b[0mcost\u001b[0m\u001b[0;34m(\u001b[0m\u001b[0mw_initial\u001b[0m\u001b[0;34m,\u001b[0m\u001b[0mX_train\u001b[0m\u001b[0;34m,\u001b[0m\u001b[0mY_train\u001b[0m\u001b[0;34m)\u001b[0m\u001b[0;34m\u001b[0m\u001b[0;34m\u001b[0m\u001b[0m\n",
      "\u001b[0;32m<ipython-input-13-9aba5e711f29>\u001b[0m in \u001b[0;36mgradient\u001b[0;34m(X, Y, W)\u001b[0m\n\u001b[1;32m      1\u001b[0m \u001b[0;32mdef\u001b[0m \u001b[0mgradient\u001b[0m\u001b[0;34m(\u001b[0m\u001b[0mX\u001b[0m\u001b[0;34m,\u001b[0m\u001b[0mY\u001b[0m\u001b[0;34m,\u001b[0m\u001b[0mW\u001b[0m\u001b[0;34m)\u001b[0m\u001b[0;34m:\u001b[0m\u001b[0;34m\u001b[0m\u001b[0;34m\u001b[0m\u001b[0m\n\u001b[1;32m      2\u001b[0m     \u001b[0mXW\u001b[0m \u001b[0;34m=\u001b[0m \u001b[0mnp\u001b[0m\u001b[0;34m.\u001b[0m\u001b[0mexp\u001b[0m\u001b[0;34m(\u001b[0m\u001b[0mnp\u001b[0m\u001b[0;34m.\u001b[0m\u001b[0mmatmul\u001b[0m\u001b[0;34m(\u001b[0m\u001b[0mX\u001b[0m\u001b[0;34m,\u001b[0m \u001b[0mW\u001b[0m\u001b[0;34m)\u001b[0m\u001b[0;34m)\u001b[0m\u001b[0;34m\u001b[0m\u001b[0;34m\u001b[0m\u001b[0m\n\u001b[0;32m----> 3\u001b[0;31m     \u001b[0mdenom\u001b[0m \u001b[0;34m=\u001b[0m \u001b[0mnp\u001b[0m\u001b[0;34m.\u001b[0m\u001b[0msum\u001b[0m\u001b[0;34m(\u001b[0m\u001b[0mXW\u001b[0m\u001b[0;34m,\u001b[0m \u001b[0maxis\u001b[0m\u001b[0;34m=\u001b[0m\u001b[0;36m1\u001b[0m\u001b[0;34m)\u001b[0m\u001b[0;34m\u001b[0m\u001b[0;34m\u001b[0m\u001b[0m\n\u001b[0m\u001b[1;32m      4\u001b[0m     \u001b[0mY_predict\u001b[0m \u001b[0;34m=\u001b[0m \u001b[0mnp\u001b[0m\u001b[0;34m.\u001b[0m\u001b[0mdivide\u001b[0m\u001b[0;34m(\u001b[0m\u001b[0mXW\u001b[0m\u001b[0;34m,\u001b[0m \u001b[0mdenom\u001b[0m\u001b[0;34m.\u001b[0m\u001b[0mreshape\u001b[0m\u001b[0;34m(\u001b[0m\u001b[0mX\u001b[0m\u001b[0;34m.\u001b[0m\u001b[0mshape\u001b[0m\u001b[0;34m[\u001b[0m\u001b[0;36m0\u001b[0m\u001b[0;34m]\u001b[0m\u001b[0;34m,\u001b[0m \u001b[0;36m1\u001b[0m\u001b[0;34m)\u001b[0m\u001b[0;34m)\u001b[0m\u001b[0;34m\u001b[0m\u001b[0;34m\u001b[0m\u001b[0m\n\u001b[1;32m      5\u001b[0m     \u001b[0;32mreturn\u001b[0m \u001b[0mnp\u001b[0m\u001b[0;34m.\u001b[0m\u001b[0mmatmul\u001b[0m\u001b[0;34m(\u001b[0m\u001b[0mX\u001b[0m\u001b[0;34m.\u001b[0m\u001b[0mtranspose\u001b[0m\u001b[0;34m(\u001b[0m\u001b[0;34m)\u001b[0m\u001b[0;34m,\u001b[0m \u001b[0mY\u001b[0m \u001b[0;34m-\u001b[0m \u001b[0mY_predict\u001b[0m\u001b[0;34m)\u001b[0m\u001b[0;34m/\u001b[0m\u001b[0mX\u001b[0m\u001b[0;34m.\u001b[0m\u001b[0mshape\u001b[0m\u001b[0;34m[\u001b[0m\u001b[0;36m0\u001b[0m\u001b[0;34m]\u001b[0m\u001b[0;34m\u001b[0m\u001b[0;34m\u001b[0m\u001b[0m\n",
      "\u001b[0;32m//anaconda3/lib/python3.7/site-packages/numpy/core/fromnumeric.py\u001b[0m in \u001b[0;36msum\u001b[0;34m(a, axis, dtype, out, keepdims, initial)\u001b[0m\n\u001b[1;32m   2074\u001b[0m \u001b[0;34m\u001b[0m\u001b[0m\n\u001b[1;32m   2075\u001b[0m     return _wrapreduction(a, np.add, 'sum', axis, dtype, out, keepdims=keepdims,\n\u001b[0;32m-> 2076\u001b[0;31m                           initial=initial)\n\u001b[0m\u001b[1;32m   2077\u001b[0m \u001b[0;34m\u001b[0m\u001b[0m\n\u001b[1;32m   2078\u001b[0m \u001b[0;34m\u001b[0m\u001b[0m\n",
      "\u001b[0;32m//anaconda3/lib/python3.7/site-packages/numpy/core/fromnumeric.py\u001b[0m in \u001b[0;36m_wrapreduction\u001b[0;34m(obj, ufunc, method, axis, dtype, out, **kwargs)\u001b[0m\n\u001b[1;32m     84\u001b[0m                 \u001b[0;32mreturn\u001b[0m \u001b[0mreduction\u001b[0m\u001b[0;34m(\u001b[0m\u001b[0maxis\u001b[0m\u001b[0;34m=\u001b[0m\u001b[0maxis\u001b[0m\u001b[0;34m,\u001b[0m \u001b[0mout\u001b[0m\u001b[0;34m=\u001b[0m\u001b[0mout\u001b[0m\u001b[0;34m,\u001b[0m \u001b[0;34m**\u001b[0m\u001b[0mpasskwargs\u001b[0m\u001b[0;34m)\u001b[0m\u001b[0;34m\u001b[0m\u001b[0;34m\u001b[0m\u001b[0m\n\u001b[1;32m     85\u001b[0m \u001b[0;34m\u001b[0m\u001b[0m\n\u001b[0;32m---> 86\u001b[0;31m     \u001b[0;32mreturn\u001b[0m \u001b[0mufunc\u001b[0m\u001b[0;34m.\u001b[0m\u001b[0mreduce\u001b[0m\u001b[0;34m(\u001b[0m\u001b[0mobj\u001b[0m\u001b[0;34m,\u001b[0m \u001b[0maxis\u001b[0m\u001b[0;34m,\u001b[0m \u001b[0mdtype\u001b[0m\u001b[0;34m,\u001b[0m \u001b[0mout\u001b[0m\u001b[0;34m,\u001b[0m \u001b[0;34m**\u001b[0m\u001b[0mpasskwargs\u001b[0m\u001b[0;34m)\u001b[0m\u001b[0;34m\u001b[0m\u001b[0;34m\u001b[0m\u001b[0m\n\u001b[0m\u001b[1;32m     87\u001b[0m \u001b[0;34m\u001b[0m\u001b[0m\n\u001b[1;32m     88\u001b[0m \u001b[0;34m\u001b[0m\u001b[0m\n",
      "\u001b[0;31mKeyboardInterrupt\u001b[0m: "
     ]
    }
   ],
   "source": [
    "w_initial = np.ones(28*5).reshape(28, 5)\n",
    "k =1\n",
    "l = X_train.shape[0]\n",
    "costAr = []\n",
    "for j in range(1, 40000):\n",
    "    grad = gradient(X_train,Y_train,w_initial)\n",
    "    w_initial = w_initial-0.1*grad  \n",
    "    c = cost(w_initial,X_train,Y_train)\n",
    "    print((j,c), end=\"\\r\", flush=True)\n",
    "    costAr.append(c)"
   ]
  },
  {
   "cell_type": "code",
   "execution_count": null,
   "metadata": {},
   "outputs": [],
   "source": [
    "import matplotlib.pyplot as plt\n",
    "plt.plot(range(0, len(costAr)),costAr)\n",
    "plt.show()"
   ]
  },
  {
   "cell_type": "code",
   "execution_count": null,
   "metadata": {},
   "outputs": [],
   "source": [
    "import numpy as np\n",
    "alpha = 0.3\n",
    "beta = 0.8\n",
    "\n",
    "f = lambda x: (x[0]**2 + 3*x[1]*x[0] + 12)\n",
    "dfx1 = lambda x: (2*x[0] + 3*x[1])\n",
    "dfx2 = lambda x: (3*x[0])\n",
    "\n",
    "t = 1\n",
    "count = 1\n",
    "x0 = np.array([2,3])\n",
    "dx0 = np.array([.1, 0.05])\n",
    "\n",
    "\n",
    "def backtrack(x0, dfx1, dfx2, t, alpha, beta, count):\n",
    "    while (f(x0) - (f(x0 - t*np.array([dfx1(x0), dfx2(x0)])) + alpha * t * np.dot(np.array([dfx1(x0), dfx2(x0)]), np.array([dfx1(x0), dfx2(x0)])))) < 0:\n",
    "        t *= beta\n",
    "        print(\"\"\"\n",
    "\n",
    "########################\n",
    "###   iteration {}   ###\n",
    "########################\n",
    "\"\"\".format(count))\n",
    "        print(\"Inequality: \",  f(x0) - (f(x0 - t*np.array([dfx1(x0), dfx2(x0)])) + alpha * t * np.dot(np.array([dfx1(x0), dfx2(x0)]), np.array([dfx1(x0), dfx2(x0)]))))\n",
    "        count += 1\n",
    "    return t\n",
    "\n",
    "t = backtrack(x0, dfx1, dfx2, t, alpha, beta,count)\n",
    "\n",
    "print(\"\\nfinal step size :\",  t)"
   ]
  },
  {
   "cell_type": "code",
   "execution_count": 74,
   "metadata": {},
   "outputs": [
    {
     "name": "stdout",
     "output_type": "stream",
     "text": [
      "(3993, 0.21175214348759824)\r"
     ]
    },
    {
     "ename": "KeyboardInterrupt",
     "evalue": "",
     "output_type": "error",
     "traceback": [
      "\u001b[0;31m---------------------------------------------------------------------------\u001b[0m",
      "\u001b[0;31mKeyboardInterrupt\u001b[0m                         Traceback (most recent call last)",
      "\u001b[0;32m<ipython-input-74-f136d184a134>\u001b[0m in \u001b[0;36m<module>\u001b[0;34m\u001b[0m\n\u001b[1;32m      6\u001b[0m     \u001b[0mcostAr\u001b[0m\u001b[0;34m.\u001b[0m\u001b[0mappend\u001b[0m\u001b[0;34m(\u001b[0m\u001b[0;36m0\u001b[0m\u001b[0;34m)\u001b[0m\u001b[0;34m\u001b[0m\u001b[0;34m\u001b[0m\u001b[0m\n\u001b[1;32m      7\u001b[0m     \u001b[0;32mfor\u001b[0m \u001b[0mj\u001b[0m \u001b[0;32min\u001b[0m \u001b[0mrange\u001b[0m\u001b[0;34m(\u001b[0m\u001b[0;36m1\u001b[0m\u001b[0;34m,\u001b[0m \u001b[0mint\u001b[0m\u001b[0;34m(\u001b[0m\u001b[0mparams\u001b[0m\u001b[0;34m[\u001b[0m\u001b[0;36m2\u001b[0m\u001b[0;34m]\u001b[0m\u001b[0;34m)\u001b[0m\u001b[0;34m)\u001b[0m\u001b[0;34m:\u001b[0m\u001b[0;34m\u001b[0m\u001b[0;34m\u001b[0m\u001b[0m\n\u001b[0;32m----> 8\u001b[0;31m         \u001b[0mgrad\u001b[0m \u001b[0;34m=\u001b[0m \u001b[0mgradient\u001b[0m\u001b[0;34m(\u001b[0m\u001b[0mX_train\u001b[0m\u001b[0;34m,\u001b[0m\u001b[0mY_train\u001b[0m\u001b[0;34m,\u001b[0m\u001b[0mw_initial\u001b[0m\u001b[0;34m)\u001b[0m\u001b[0;34m\u001b[0m\u001b[0;34m\u001b[0m\u001b[0m\n\u001b[0m\u001b[1;32m      9\u001b[0m         \u001b[0mw_initial\u001b[0m \u001b[0;34m=\u001b[0m \u001b[0mw_initial\u001b[0m\u001b[0;34m+\u001b[0m\u001b[0mparams\u001b[0m\u001b[0;34m[\u001b[0m\u001b[0;36m1\u001b[0m\u001b[0;34m]\u001b[0m\u001b[0;34m*\u001b[0m\u001b[0mgrad\u001b[0m\u001b[0;34m\u001b[0m\u001b[0;34m\u001b[0m\u001b[0m\n\u001b[1;32m     10\u001b[0m         \u001b[0mw_initial\u001b[0m \u001b[0;34m=\u001b[0m \u001b[0;34m(\u001b[0m\u001b[0mw_initial\u001b[0m\u001b[0;34m.\u001b[0m\u001b[0mT\u001b[0m \u001b[0;34m-\u001b[0m \u001b[0mw_initial\u001b[0m\u001b[0;34m.\u001b[0m\u001b[0mT\u001b[0m\u001b[0;34m[\u001b[0m\u001b[0;36m0\u001b[0m\u001b[0;34m]\u001b[0m\u001b[0;34m)\u001b[0m\u001b[0;34m.\u001b[0m\u001b[0mT\u001b[0m\u001b[0;34m\u001b[0m\u001b[0;34m\u001b[0m\u001b[0m\n",
      "\u001b[0;32m<ipython-input-13-9aba5e711f29>\u001b[0m in \u001b[0;36mgradient\u001b[0;34m(X, Y, W)\u001b[0m\n\u001b[1;32m      1\u001b[0m \u001b[0;32mdef\u001b[0m \u001b[0mgradient\u001b[0m\u001b[0;34m(\u001b[0m\u001b[0mX\u001b[0m\u001b[0;34m,\u001b[0m\u001b[0mY\u001b[0m\u001b[0;34m,\u001b[0m\u001b[0mW\u001b[0m\u001b[0;34m)\u001b[0m\u001b[0;34m:\u001b[0m\u001b[0;34m\u001b[0m\u001b[0;34m\u001b[0m\u001b[0m\n\u001b[0;32m----> 2\u001b[0;31m     \u001b[0mXW\u001b[0m \u001b[0;34m=\u001b[0m \u001b[0mnp\u001b[0m\u001b[0;34m.\u001b[0m\u001b[0mexp\u001b[0m\u001b[0;34m(\u001b[0m\u001b[0mnp\u001b[0m\u001b[0;34m.\u001b[0m\u001b[0mmatmul\u001b[0m\u001b[0;34m(\u001b[0m\u001b[0mX\u001b[0m\u001b[0;34m,\u001b[0m \u001b[0mW\u001b[0m\u001b[0;34m)\u001b[0m\u001b[0;34m)\u001b[0m\u001b[0;34m\u001b[0m\u001b[0;34m\u001b[0m\u001b[0m\n\u001b[0m\u001b[1;32m      3\u001b[0m     \u001b[0mdenom\u001b[0m \u001b[0;34m=\u001b[0m \u001b[0mnp\u001b[0m\u001b[0;34m.\u001b[0m\u001b[0msum\u001b[0m\u001b[0;34m(\u001b[0m\u001b[0mXW\u001b[0m\u001b[0;34m,\u001b[0m \u001b[0maxis\u001b[0m\u001b[0;34m=\u001b[0m\u001b[0;36m1\u001b[0m\u001b[0;34m)\u001b[0m\u001b[0;34m\u001b[0m\u001b[0;34m\u001b[0m\u001b[0m\n\u001b[1;32m      4\u001b[0m     \u001b[0mY_predict\u001b[0m \u001b[0;34m=\u001b[0m \u001b[0mnp\u001b[0m\u001b[0;34m.\u001b[0m\u001b[0mdivide\u001b[0m\u001b[0;34m(\u001b[0m\u001b[0mXW\u001b[0m\u001b[0;34m,\u001b[0m \u001b[0mdenom\u001b[0m\u001b[0;34m.\u001b[0m\u001b[0mreshape\u001b[0m\u001b[0;34m(\u001b[0m\u001b[0mX\u001b[0m\u001b[0;34m.\u001b[0m\u001b[0mshape\u001b[0m\u001b[0;34m[\u001b[0m\u001b[0;36m0\u001b[0m\u001b[0;34m]\u001b[0m\u001b[0;34m,\u001b[0m \u001b[0;36m1\u001b[0m\u001b[0;34m)\u001b[0m\u001b[0;34m)\u001b[0m\u001b[0;34m\u001b[0m\u001b[0;34m\u001b[0m\u001b[0m\n\u001b[1;32m      5\u001b[0m     \u001b[0;32mreturn\u001b[0m \u001b[0mnp\u001b[0m\u001b[0;34m.\u001b[0m\u001b[0mmatmul\u001b[0m\u001b[0;34m(\u001b[0m\u001b[0mX\u001b[0m\u001b[0;34m.\u001b[0m\u001b[0mtranspose\u001b[0m\u001b[0;34m(\u001b[0m\u001b[0;34m)\u001b[0m\u001b[0;34m,\u001b[0m \u001b[0mY\u001b[0m \u001b[0;34m-\u001b[0m \u001b[0mY_predict\u001b[0m\u001b[0;34m)\u001b[0m\u001b[0;34m/\u001b[0m\u001b[0mX\u001b[0m\u001b[0;34m.\u001b[0m\u001b[0mshape\u001b[0m\u001b[0;34m[\u001b[0m\u001b[0;36m0\u001b[0m\u001b[0;34m]\u001b[0m\u001b[0;34m\u001b[0m\u001b[0;34m\u001b[0m\u001b[0m\n",
      "\u001b[0;31mKeyboardInterrupt\u001b[0m: "
     ]
    }
   ],
   "source": [
    "# part a\n",
    "if(params[0] == 1):\n",
    "    w_initial = np.ones(28*5).reshape(28, 5)\n",
    "    w_initial = (w_initial.T - w_initial.T[0]).T\n",
    "    costAr = []\n",
    "    costAr.append(0)\n",
    "    for j in range(1, int(params[2])):\n",
    "        grad = gradient(X_train,Y_train,w_initial)\n",
    "        w_initial = w_initial+params[1]*grad \n",
    "        w_initial = (w_initial.T - w_initial.T[0]).T\n",
    "        c = cost(w_initial,X_train,Y_train)\n",
    "        print((j,c), end=\"\\r\", flush=True)\n",
    "        costAr.append(c)\n",
    "        if(costAr[j-1]-costAr[j]<.000001 and j>10):\n",
    "            print(costAr[j],costAr[j-1])\n",
    "            break\n",
    "if(params[0] == 2):\n",
    "    w_initial = np.ones(28*5).reshape(28, 5)\n",
    "    w_initial = (w_initial.T - w_initial.T[0]).T\n",
    "    costAr = []\n",
    "    costAr.append(0)\n",
    "    for j in range(1, int(params[2])):\n",
    "        grad = gradient(X_train,Y_train,w_initial)\n",
    "        w_initial = w_initial+(params[1]/np.sqrt(j))*grad \n",
    "        w_initial = (w_initial.T - w_initial.T[0]).T\n",
    "        c = cost(w_initial,X_train,Y_train)\n",
    "        print((j,c), end=\"\\r\", flush=True)\n",
    "        costAr.append(c)\n",
    "        if(costAr[j-1]-costAr[j]<.000001 and j>20):\n",
    "            print(costAr[j],costAr[j-1])\n",
    "            break"
   ]
  },
  {
   "cell_type": "code",
   "execution_count": 41,
   "metadata": {},
   "outputs": [
    {
     "name": "stdout",
     "output_type": "stream",
     "text": [
      "3468\n"
     ]
    },
    {
     "data": {
      "text/plain": [
       "0.9133333333333333"
      ]
     },
     "execution_count": 41,
     "metadata": {},
     "output_type": "execute_result"
    }
   ],
   "source": [
    "print(j)\n",
    "w_initial = (w_initial.T - w_initial.T[0]).T\n",
    "WmulX = np.exp(np.matmul(X_test, w_initial))\n",
    "denom = np.sum(WmulX, axis=1)\n",
    "Y_predict = np.divide(WmulX, denom.reshape(len(X_test), 1))\n",
    "b = np.zeros_like(Y_predict)\n",
    "b[np.arange(len(Y_predict)), Y_predict.argmax(1)] = 1\n",
    "Y_predict = b\n",
    "# print(Y_predict.shape)\n",
    "np.trace(np.matmul(Y_predict, Y_test.T))/len(X_test)"
   ]
  },
  {
   "cell_type": "code",
   "execution_count": 42,
   "metadata": {},
   "outputs": [],
   "source": [
    "Y_predict[:,0] =1*Y_predict[:,0]\n",
    "Y_predict[:,1] =2*Y_predict[:,1]\n",
    "Y_predict[:,2] =3*Y_predict[:,2]\n",
    "Y_predict[:,3] =4*Y_predict[:,3]\n",
    "Y_predict[:,4] =5*Y_predict[:,4]\n",
    "Y_predict = np.sum(Y_predict,axis=1).tolist()\n",
    "Y_test[:,0] =1*Y_test[:,0]\n",
    "Y_test[:,1] =2*Y_test[:,1]\n",
    "Y_test[:,2] =3*Y_test[:,2]\n",
    "Y_test[:,3] =4*Y_test[:,3]\n",
    "Y_test[:,4] =5*Y_test[:,4]\n",
    "Y_test = np.sum(Y_test,axis=1).tolist()\n",
    "mat = np.zeros((5,5))\n",
    "for i in range(0,len(Y_predict)):\n",
    "    mat[int(Y_predict[i])-1][Y_test[i]-1]=mat[int(Y_predict[i])-1][Y_test[i]-1]+1"
   ]
  },
  {
   "cell_type": "code",
   "execution_count": 43,
   "metadata": {},
   "outputs": [
    {
     "data": {
      "text/plain": [
       "array([[1.997e+03, 0.000e+00, 0.000e+00, 0.000e+00, 0.000e+00],\n",
       "       [0.000e+00, 0.000e+00, 0.000e+00, 0.000e+00, 0.000e+00],\n",
       "       [0.000e+00, 1.000e+00, 7.000e+00, 1.000e+00, 0.000e+00],\n",
       "       [0.000e+00, 0.000e+00, 1.380e+02, 1.843e+03, 1.960e+02],\n",
       "       [0.000e+00, 0.000e+00, 0.000e+00, 1.840e+02, 1.633e+03]])"
      ]
     },
     "execution_count": 43,
     "metadata": {},
     "output_type": "execute_result"
    }
   ],
   "source": [
    "mat"
   ]
  },
  {
   "cell_type": "code",
   "execution_count": 33,
   "metadata": {},
   "outputs": [],
   "source": []
  },
  {
   "cell_type": "code",
   "execution_count": 35,
   "metadata": {},
   "outputs": [
    {
     "data": {
      "text/plain": [
       "[[0.0, 0.0, 0.0, 0.0, 0.0, 0.0],\n",
       " [0.0, 1997.0, 0.0, 0.0, 0.0, 0.0],\n",
       " [0.0, 0.0, 0.0, 0.0, 0.0, 0.0],\n",
       " [0.0, 0.0, 1.0, 7.0, 1.0, 0.0],\n",
       " [0.0, 0.0, 0.0, 138.0, 1843.0, 196.0],\n",
       " [0.0, 0.0, 0.0, 0.0, 184.0, 1633.0]]"
      ]
     },
     "execution_count": 35,
     "metadata": {},
     "output_type": "execute_result"
    }
   ],
   "source": [
    "mat.tolist()"
   ]
  },
  {
   "cell_type": "code",
   "execution_count": 45,
   "metadata": {
    "scrolled": false
   },
   "outputs": [
    {
     "name": "stdout",
     "output_type": "stream",
     "text": [
      "0.20015944084507528 0.2001694406943409\n"
     ]
    }
   ],
   "source": [
    "# part b\n",
    "if(params[0] == 1):\n",
    "    w_initial = np.ones(28*5).reshape(28, 5)\n",
    "    w_initial = (w_initial.T - w_initial.T[0]).T\n",
    "    costAr = []\n",
    "    costAr.append(0)\n",
    "    k = int(params[3])\n",
    "    l = X_train.shape[0]\n",
    "    for j in range(1, int(params[2])):\n",
    "        for i in range(0,k):\n",
    "            grad  = gradient(X_train[int((l/k)*i):int((l/k)*(i+1)),:] , Y_train[int((l/k)*i):int((l/k)*(i+1)),:], w_initial)\n",
    "            w_initial = w_initial+params[1]*grad \n",
    "            w_initial = (w_initial.T - w_initial.T[0]).T\n",
    "        c = cost(w_initial,X_train,Y_train)\n",
    "        print((j,c), end=\"\\r\", flush=True)\n",
    "        costAr.append(c)\n",
    "        if(costAr[j-1]-costAr[j]<.00001 and j>10):\n",
    "            print(costAr[j],costAr[j-1])\n",
    "            break\n",
    "if(params[0] == 2):\n",
    "    w_initial = np.ones(28*5).reshape(28, 5)\n",
    "    w_initial = (w_initial.T - w_initial.T[0]).T\n",
    "    costAr = []\n",
    "    costAr.append(0)\n",
    "    k = int(params[3])\n",
    "    l = X_train.shape[0]\n",
    "    for j in range(1, int(params[2])):\n",
    "        for i in range(0,k):\n",
    "            grad  = gradient(X_train[int((l/k)*i):int((l/k)*(i+1)),:] , Y_train[int((l/k)*i):int((l/k)*(i+1)),:], w_initial)\n",
    "            w_initial = w_initial+(params[1]/np.sqrt(j))*grad \n",
    "            w_initial = (w_initial.T - w_initial.T[0]).T\n",
    "        c = cost(w_initial,X_train,Y_train)\n",
    "        print((j,c), end=\"\\r\", flush=True)\n",
    "        costAr.append(c)\n",
    "        if(costAr[j-1]-costAr[j]<.00001 and j>10):\n",
    "            print(costAr[j],costAr[j-1])\n",
    "            break"
   ]
  },
  {
   "cell_type": "code",
   "execution_count": null,
   "metadata": {},
   "outputs": [],
   "source": [
    "w_initial = np.random.rand(28, 5)\n",
    "w_initial = (w_initial.T - w_initial.T[0]).T\n",
    "# w_temp = np.zeros(28*5).reshape(28,5)\n",
    "k =1\n",
    "l = X_train.shape[0]\n",
    "costAr = []\n",
    "for j in range(1, 10000):\n",
    "    for i in range(0,k):\n",
    "        grad  = gradient(X_train[int((l/k)*i):int((l/k)*(i+1)),:] , Y_train[int((l/k)*i):int((l/k)*(i+1)),:], w_initial)\n",
    "        grad = gradient(X_train,Y_train,w_initial)\n",
    "        w_initial = w_initial+(params[1]/((l/k)))*grad  \n",
    "        w_initial = (w_initial.T - w_initial.T[0]).T\n",
    "    w_temp = w_initial\n",
    "    l = cost(w_temp,X_train,Y_train)\n",
    "    print((j,l), end=\"\\r\", flush=True)\n",
    "    costAr.append(l)"
   ]
  },
  {
   "cell_type": "code",
   "execution_count": null,
   "metadata": {},
   "outputs": [],
   "source": [
    "import matplotlib.pyplot as plt\n",
    "plt.plot(range(0, len(costAr[1000:2000])),costAr[1000:2000])\n",
    "plt.show()"
   ]
  },
  {
   "cell_type": "code",
   "execution_count": null,
   "metadata": {},
   "outputs": [],
   "source": [
    "import matplotlib.pyplot as plt\n",
    "plt.plot(range(0, len(costAr)),costAr)\n",
    "plt.show()"
   ]
  },
  {
   "cell_type": "code",
   "execution_count": null,
   "metadata": {},
   "outputs": [],
   "source": []
  },
  {
   "cell_type": "code",
   "execution_count": null,
   "metadata": {},
   "outputs": [],
   "source": []
  },
  {
   "cell_type": "code",
   "execution_count": null,
   "metadata": {},
   "outputs": [],
   "source": [
    "Y_predict[:,0] =1*Y_predict[:,0]\n",
    "Y_predict[:,1] =2*Y_predict[:,1]\n",
    "Y_predict[:,2] =3*Y_predict[:,2]\n",
    "Y_predict[:,3] =4*Y_predict[:,3]\n",
    "Y_predict[:,4] =5*Y_predict[:,4]\n",
    "Y_predict = np.sum(Y_predict,axis=1).tolist()\n",
    "predict = []\n",
    "for i in range(0,len(Y_predict)):\n",
    "    if(Y_predict[i]==1):\n",
    "        predict.append(\"not_recom\")\n",
    "    elif(Y_predict[i]==2):\n",
    "        predict.append(\"recommend\")\n",
    "    elif(Y_predict[i]==3):\n",
    "        predict.append(\"very_recom\")\n",
    "    elif(Y_predict[i]==4):\n",
    "        predict.append(\"priority\")\n",
    "    elif(Y_predict[i]==5):\n",
    "        predict.append(\"spec_prior\")\n",
    "\n",
    "Y_predict = pd.DataFrame(predict)\n",
    "Y_predict.to_csv(data_dir+sys.argv[4], header=False, index=False)"
   ]
  },
  {
   "cell_type": "code",
   "execution_count": null,
   "metadata": {},
   "outputs": [],
   "source": [
    "w_initial = pd.DataFrame(w_initial)\n",
    "w_initial.to_csv(data_dir+sys.argv[5], header=False, index=False)\n",
    "# print(accuracy)"
   ]
  },
  {
   "cell_type": "code",
   "execution_count": null,
   "metadata": {},
   "outputs": [],
   "source": [
    "Y_predict"
   ]
  },
  {
   "cell_type": "code",
   "execution_count": null,
   "metadata": {},
   "outputs": [],
   "source": [
    "np.nonzero(w_initial)[0].shape"
   ]
  },
  {
   "cell_type": "code",
   "execution_count": null,
   "metadata": {},
   "outputs": [],
   "source": [
    "print(features.shape,w_initial.shape)"
   ]
  },
  {
   "cell_type": "code",
   "execution_count": null,
   "metadata": {},
   "outputs": [],
   "source": [
    "WmulX = np.exp(np.matmul(X_train,w_initial))\n",
    "denom = np.sum(WmulX,axis=1)\n",
    "Y_predict = np.divide(WmulX,denom.reshape(6000,1))\n",
    "Y_predict[Y_predict>0.5]=1\n",
    "Y_predict[Y_predict<0.5]=0\n",
    "accuracy = np.trace(np.matmul(Y_predict,Y_train.T))/(6000)\n",
    "print((\"   accuracy=\"+str(accuracy*100)+\"%\"),end=\"\\r\",)"
   ]
  },
  {
   "cell_type": "code",
   "execution_count": null,
   "metadata": {},
   "outputs": [],
   "source": [
    "WmulX = np.exp(np.matmul(X_test,w_initial))\n",
    "denom = np.sum(WmulX,axis=1)\n",
    "Y_predict = np.divide(WmulX,denom.reshape(600,1))\n",
    "Y_predict[Y_predict>=0.5]=1\n",
    "Y_predict[Y_predict<0.5]=0"
   ]
  },
  {
   "cell_type": "code",
   "execution_count": null,
   "metadata": {},
   "outputs": [],
   "source": [
    "Y_predict*Y_test"
   ]
  },
  {
   "cell_type": "code",
   "execution_count": null,
   "metadata": {},
   "outputs": [],
   "source": [
    "Y_predict.astype(\"int\")"
   ]
  },
  {
   "cell_type": "code",
   "execution_count": null,
   "metadata": {},
   "outputs": [],
   "source": [
    "np.trace(np.matmul(Y_predict,Y_test.T))"
   ]
  },
  {
   "cell_type": "code",
   "execution_count": null,
   "metadata": {},
   "outputs": [],
   "source": [
    "import matplotlib.pyplot as plt\n"
   ]
  },
  {
   "cell_type": "code",
   "execution_count": null,
   "metadata": {},
   "outputs": [],
   "source": [
    "# print(features.shape,labels.shape)\n",
    "# pyplot.bar(range(0,len(er)),[er,erMin])\n",
    "df1 = pd.DataFrame({'Y_predict': (Y_predict)[:100,1], 'Y_test': Y_test[:100,1]})\n",
    "df1.plot(kind='bar',figsize=(30,30))\n",
    "plt.grid(which='major', linestyle='-', linewidth='0.5', color='green')\n",
    "plt.grid(which='minor', linestyle=':', linewidth='0.5', color='black')\n",
    "plt.show()"
   ]
  },
  {
   "cell_type": "code",
   "execution_count": null,
   "metadata": {},
   "outputs": [],
   "source": []
  }
 ],
 "metadata": {
  "kernelspec": {
   "display_name": "Python 3",
   "language": "python",
   "name": "python3"
  },
  "language_info": {
   "codemirror_mode": {
    "name": "ipython",
    "version": 3
   },
   "file_extension": ".py",
   "mimetype": "text/x-python",
   "name": "python",
   "nbconvert_exporter": "python",
   "pygments_lexer": "ipython3",
   "version": "3.7.3"
  }
 },
 "nbformat": 4,
 "nbformat_minor": 2
}
